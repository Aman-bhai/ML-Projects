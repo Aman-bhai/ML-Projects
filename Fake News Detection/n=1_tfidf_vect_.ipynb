{
  "nbformat": 4,
  "nbformat_minor": 0,
  "metadata": {
    "colab": {
      "provenance": []
    },
    "kernelspec": {
      "name": "python3",
      "display_name": "Python 3"
    },
    "language_info": {
      "name": "python"
    }
  },
  "cells": [
    {
      "cell_type": "code",
      "execution_count": null,
      "metadata": {
        "colab": {
          "base_uri": "https://localhost:8080/"
        },
        "id": "n4aPKgCy5vh9",
        "outputId": "d7668279-5f76-4834-8f68-2a67ac31b2e1"
      },
      "outputs": [
        {
          "output_type": "stream",
          "name": "stdout",
          "text": [
            "Mounted at /content/grieve\n"
          ]
        }
      ],
      "source": [
        "import pandas as pd\n",
        "import matplotlib.pyplot as plt\n",
        "import pandas as pd\n",
        "from google.colab import drive\n",
        "drive.mount('/content/grieve')\n"
      ]
    },
    {
      "cell_type": "code",
      "source": [
        "df=pd.set_option('display.max_colwidth',100)\n",
        "df"
      ],
      "metadata": {
        "id": "XZZHMzvx5yOO"
      },
      "execution_count": null,
      "outputs": []
    },
    {
      "cell_type": "code",
      "source": [
        "df=pd.read_csv('/content/grieve/MyDrive/Colab Notebooks/project ml/fake news /test.csv')\n",
        "\n",
        "df1=pd.read_csv('/content/grieve/MyDrive/Colab Notebooks/project ml/fake news /submit.csv')\n",
        "df1"
      ],
      "metadata": {
        "colab": {
          "base_uri": "https://localhost:8080/",
          "height": 423
        },
        "id": "zxJmYscL5yQ_",
        "outputId": "a801bc42-4a0d-4b1b-a76c-12189cafe1b8"
      },
      "execution_count": null,
      "outputs": [
        {
          "output_type": "execute_result",
          "data": {
            "text/plain": [
              "         id  label\n",
              "0     20800      0\n",
              "1     20801      1\n",
              "2     20802      0\n",
              "3     20803      1\n",
              "4     20804      1\n",
              "...     ...    ...\n",
              "5195  25995      0\n",
              "5196  25996      1\n",
              "5197  25997      0\n",
              "5198  25998      1\n",
              "5199  25999      0\n",
              "\n",
              "[5200 rows x 2 columns]"
            ],
            "text/html": [
              "\n",
              "  <div id=\"df-d5433702-eb33-4f45-8073-80943fd277da\">\n",
              "    <div class=\"colab-df-container\">\n",
              "      <div>\n",
              "<style scoped>\n",
              "    .dataframe tbody tr th:only-of-type {\n",
              "        vertical-align: middle;\n",
              "    }\n",
              "\n",
              "    .dataframe tbody tr th {\n",
              "        vertical-align: top;\n",
              "    }\n",
              "\n",
              "    .dataframe thead th {\n",
              "        text-align: right;\n",
              "    }\n",
              "</style>\n",
              "<table border=\"1\" class=\"dataframe\">\n",
              "  <thead>\n",
              "    <tr style=\"text-align: right;\">\n",
              "      <th></th>\n",
              "      <th>id</th>\n",
              "      <th>label</th>\n",
              "    </tr>\n",
              "  </thead>\n",
              "  <tbody>\n",
              "    <tr>\n",
              "      <th>0</th>\n",
              "      <td>20800</td>\n",
              "      <td>0</td>\n",
              "    </tr>\n",
              "    <tr>\n",
              "      <th>1</th>\n",
              "      <td>20801</td>\n",
              "      <td>1</td>\n",
              "    </tr>\n",
              "    <tr>\n",
              "      <th>2</th>\n",
              "      <td>20802</td>\n",
              "      <td>0</td>\n",
              "    </tr>\n",
              "    <tr>\n",
              "      <th>3</th>\n",
              "      <td>20803</td>\n",
              "      <td>1</td>\n",
              "    </tr>\n",
              "    <tr>\n",
              "      <th>4</th>\n",
              "      <td>20804</td>\n",
              "      <td>1</td>\n",
              "    </tr>\n",
              "    <tr>\n",
              "      <th>...</th>\n",
              "      <td>...</td>\n",
              "      <td>...</td>\n",
              "    </tr>\n",
              "    <tr>\n",
              "      <th>5195</th>\n",
              "      <td>25995</td>\n",
              "      <td>0</td>\n",
              "    </tr>\n",
              "    <tr>\n",
              "      <th>5196</th>\n",
              "      <td>25996</td>\n",
              "      <td>1</td>\n",
              "    </tr>\n",
              "    <tr>\n",
              "      <th>5197</th>\n",
              "      <td>25997</td>\n",
              "      <td>0</td>\n",
              "    </tr>\n",
              "    <tr>\n",
              "      <th>5198</th>\n",
              "      <td>25998</td>\n",
              "      <td>1</td>\n",
              "    </tr>\n",
              "    <tr>\n",
              "      <th>5199</th>\n",
              "      <td>25999</td>\n",
              "      <td>0</td>\n",
              "    </tr>\n",
              "  </tbody>\n",
              "</table>\n",
              "<p>5200 rows × 2 columns</p>\n",
              "</div>\n",
              "      <button class=\"colab-df-convert\" onclick=\"convertToInteractive('df-d5433702-eb33-4f45-8073-80943fd277da')\"\n",
              "              title=\"Convert this dataframe to an interactive table.\"\n",
              "              style=\"display:none;\">\n",
              "        \n",
              "  <svg xmlns=\"http://www.w3.org/2000/svg\" height=\"24px\"viewBox=\"0 0 24 24\"\n",
              "       width=\"24px\">\n",
              "    <path d=\"M0 0h24v24H0V0z\" fill=\"none\"/>\n",
              "    <path d=\"M18.56 5.44l.94 2.06.94-2.06 2.06-.94-2.06-.94-.94-2.06-.94 2.06-2.06.94zm-11 1L8.5 8.5l.94-2.06 2.06-.94-2.06-.94L8.5 2.5l-.94 2.06-2.06.94zm10 10l.94 2.06.94-2.06 2.06-.94-2.06-.94-.94-2.06-.94 2.06-2.06.94z\"/><path d=\"M17.41 7.96l-1.37-1.37c-.4-.4-.92-.59-1.43-.59-.52 0-1.04.2-1.43.59L10.3 9.45l-7.72 7.72c-.78.78-.78 2.05 0 2.83L4 21.41c.39.39.9.59 1.41.59.51 0 1.02-.2 1.41-.59l7.78-7.78 2.81-2.81c.8-.78.8-2.07 0-2.86zM5.41 20L4 18.59l7.72-7.72 1.47 1.35L5.41 20z\"/>\n",
              "  </svg>\n",
              "      </button>\n",
              "      \n",
              "  <style>\n",
              "    .colab-df-container {\n",
              "      display:flex;\n",
              "      flex-wrap:wrap;\n",
              "      gap: 12px;\n",
              "    }\n",
              "\n",
              "    .colab-df-convert {\n",
              "      background-color: #E8F0FE;\n",
              "      border: none;\n",
              "      border-radius: 50%;\n",
              "      cursor: pointer;\n",
              "      display: none;\n",
              "      fill: #1967D2;\n",
              "      height: 32px;\n",
              "      padding: 0 0 0 0;\n",
              "      width: 32px;\n",
              "    }\n",
              "\n",
              "    .colab-df-convert:hover {\n",
              "      background-color: #E2EBFA;\n",
              "      box-shadow: 0px 1px 2px rgba(60, 64, 67, 0.3), 0px 1px 3px 1px rgba(60, 64, 67, 0.15);\n",
              "      fill: #174EA6;\n",
              "    }\n",
              "\n",
              "    [theme=dark] .colab-df-convert {\n",
              "      background-color: #3B4455;\n",
              "      fill: #D2E3FC;\n",
              "    }\n",
              "\n",
              "    [theme=dark] .colab-df-convert:hover {\n",
              "      background-color: #434B5C;\n",
              "      box-shadow: 0px 1px 3px 1px rgba(0, 0, 0, 0.15);\n",
              "      filter: drop-shadow(0px 1px 2px rgba(0, 0, 0, 0.3));\n",
              "      fill: #FFFFFF;\n",
              "    }\n",
              "  </style>\n",
              "\n",
              "      <script>\n",
              "        const buttonEl =\n",
              "          document.querySelector('#df-d5433702-eb33-4f45-8073-80943fd277da button.colab-df-convert');\n",
              "        buttonEl.style.display =\n",
              "          google.colab.kernel.accessAllowed ? 'block' : 'none';\n",
              "\n",
              "        async function convertToInteractive(key) {\n",
              "          const element = document.querySelector('#df-d5433702-eb33-4f45-8073-80943fd277da');\n",
              "          const dataTable =\n",
              "            await google.colab.kernel.invokeFunction('convertToInteractive',\n",
              "                                                     [key], {});\n",
              "          if (!dataTable) return;\n",
              "\n",
              "          const docLinkHtml = 'Like what you see? Visit the ' +\n",
              "            '<a target=\"_blank\" href=https://colab.research.google.com/notebooks/data_table.ipynb>data table notebook</a>'\n",
              "            + ' to learn more about interactive tables.';\n",
              "          element.innerHTML = '';\n",
              "          dataTable['output_type'] = 'display_data';\n",
              "          await google.colab.output.renderOutput(dataTable, element);\n",
              "          const docLink = document.createElement('div');\n",
              "          docLink.innerHTML = docLinkHtml;\n",
              "          element.appendChild(docLink);\n",
              "        }\n",
              "      </script>\n",
              "    </div>\n",
              "  </div>\n",
              "  "
            ]
          },
          "metadata": {},
          "execution_count": 3
        }
      ]
    },
    {
      "cell_type": "code",
      "source": [
        "df['label']=df1['label']\n",
        "df.dropna(inplace=True)"
      ],
      "metadata": {
        "id": "Ek6rowso5yUC"
      },
      "execution_count": null,
      "outputs": []
    },
    {
      "cell_type": "code",
      "source": [
        "from nltk.stem.wordnet import WordNetLemmatizer\n",
        "import re\n",
        "import nltk\n",
        "nltk.download('stopwords')\n",
        "nltk.download('omw-1.4')\n",
        "nltk.download('wordnet')\n",
        "from nltk.corpus import stopwords as s\n",
        "wn=WordNetLemmatizer()\n",
        "stop_words=s.words('english')"
      ],
      "metadata": {
        "colab": {
          "base_uri": "https://localhost:8080/"
        },
        "id": "lrTtGZdP5yXG",
        "outputId": "2f128fc1-5a95-4915-f237-c556411cb6c0"
      },
      "execution_count": null,
      "outputs": [
        {
          "output_type": "stream",
          "name": "stderr",
          "text": [
            "[nltk_data] Downloading package stopwords to /root/nltk_data...\n",
            "[nltk_data]   Unzipping corpora/stopwords.zip.\n",
            "[nltk_data] Downloading package omw-1.4 to /root/nltk_data...\n",
            "[nltk_data] Downloading package wordnet to /root/nltk_data...\n"
          ]
        }
      ]
    },
    {
      "cell_type": "code",
      "source": [
        "import string"
      ],
      "metadata": {
        "id": "aUF3Kc5C5yaS"
      },
      "execution_count": null,
      "outputs": []
    },
    {
      "cell_type": "code",
      "source": [
        "def clean_text(text):\n",
        "  remov_pun=''.join([c for c in text if c not in string.punctuation])\n",
        "  tokens=re.split('\\W+',remov_pun)\n",
        "  text=[ wn.lemmatize(word) for word in tokens if word not in stop_words]\n",
        "  return text\n",
        "\n"
      ],
      "metadata": {
        "id": "E6byLQfw5ydb"
      },
      "execution_count": null,
      "outputs": []
    },
    {
      "cell_type": "code",
      "source": [
        "df['clean_text']=df['text'].apply(lambda x:clean_text(x.lower()))"
      ],
      "metadata": {
        "id": "Lh0EK-d85yho"
      },
      "execution_count": null,
      "outputs": []
    },
    {
      "cell_type": "code",
      "source": [
        "df.drop(['title','author','id'],axis='columns',inplace=True)"
      ],
      "metadata": {
        "id": "xy4bKz-E5yjo"
      },
      "execution_count": null,
      "outputs": []
    },
    {
      "cell_type": "code",
      "source": [
        "\n",
        "from sklearn.feature_extraction.text import TfidfVectorizer\n",
        "tfidf_vect=TfidfVectorizer(analyzer=clean_text,ngram_range=(1,2))\n",
        "x= tfidf_vect.fit_transform(df['text'])\n",
        "print(x.shape)\n"
      ],
      "metadata": {
        "colab": {
          "base_uri": "https://localhost:8080/"
        },
        "id": "ATkMjG8s5ym0",
        "outputId": "83e169f1-3c49-41ae-d7dd-6af8599e931d"
      },
      "execution_count": null,
      "outputs": [
        {
          "output_type": "stream",
          "name": "stdout",
          "text": [
            "(4575, 96837)\n"
          ]
        }
      ]
    },
    {
      "cell_type": "code",
      "source": [
        "y=df.label\n",
        "y"
      ],
      "metadata": {
        "colab": {
          "base_uri": "https://localhost:8080/"
        },
        "id": "hDOXexgHER46",
        "outputId": "0646f79b-4ce9-4762-cd3e-ead32e6009d5"
      },
      "execution_count": null,
      "outputs": [
        {
          "output_type": "execute_result",
          "data": {
            "text/plain": [
              "0       0\n",
              "2       0\n",
              "3       1\n",
              "4       1\n",
              "6       1\n",
              "       ..\n",
              "5194    1\n",
              "5195    0\n",
              "5196    1\n",
              "5197    0\n",
              "5199    0\n",
              "Name: label, Length: 4575, dtype: int64"
            ]
          },
          "metadata": {},
          "execution_count": 11
        }
      ]
    },
    {
      "cell_type": "code",
      "source": [
        "DF=pd.DataFrame(x.toarray(),columns=tfidf_vect.get_feature_names())\n",
        "print(df)"
      ],
      "metadata": {
        "colab": {
          "base_uri": "https://localhost:8080/"
        },
        "id": "ppZ9XbjO5ypo",
        "outputId": "8871a474-d6e1-4db5-aea4-f20d4025eb19"
      },
      "execution_count": null,
      "outputs": [
        {
          "output_type": "stream",
          "name": "stdout",
          "text": [
            "                                                                                                     text  \\\n",
            "0     PALO ALTO, Calif.  —   After years of scorning the political process, Silicon Valley has leapt i...   \n",
            "2     Videos #NoDAPL: Native American Leaders Vow to Stay All Winter, File Lawsuit Against Police Amne...   \n",
            "3     If at first you don’t succeed, try a different sport. Tim Tebow, who was a Heisman   quarterback...   \n",
            "4     42 mins ago 1 Views 0 Comments 0 Likes 'For the first time in history, we’re filming a panoramic...   \n",
            "6     Sunday on NBC’s “Meet the Press,” House Minority Leader Rep. Nancy Pelosi ( )  called for a FBI ...   \n",
            "...                                                                                                   ...   \n",
            "5194  Pres. Trump on if “tapes” exist of his conversations with Comey: ”Well, I’ll tell you about that...   \n",
            "5195  Of all the dysfunctions that plague the world’s megacities, none may be more pernicious than bad...   \n",
            "5196  WASHINGTON  —   Gov. John Kasich of Ohio on Tuesday signed into law a ban on abortion after 20 w...   \n",
            "5197  Good morning. (Want to get California Today by email? Here’s the  .) JoAnna Klein, a science wri...   \n",
            "5199  Perhaps you’ve seen the new TV series whose pilot episode begins this way: A man and a woman are...   \n",
            "\n",
            "      label  \\\n",
            "0         0   \n",
            "2         0   \n",
            "3         1   \n",
            "4         1   \n",
            "6         1   \n",
            "...     ...   \n",
            "5194      1   \n",
            "5195      0   \n",
            "5196      1   \n",
            "5197      0   \n",
            "5199      0   \n",
            "\n",
            "                                                                                               clean_text  \n",
            "0     [palo, alto, calif, year, scorning, political, process, silicon, valley, leapt, fray, prospect, ...  \n",
            "2     [video, nodapl, native, american, leader, vow, stay, winter, file, lawsuit, police, amnesty, int...  \n",
            "3     [first, succeed, try, different, sport, tim, tebow, heisman, quarterback, university, florida, u...  \n",
            "4     [42, min, ago, 1, view, 0, comment, 0, like, first, time, history, filming, panoramic, video, st...  \n",
            "6     [sunday, nbc, meet, press, house, minority, leader, rep, nancy, pelosi, called, fbi, investigati...  \n",
            "...                                                                                                   ...  \n",
            "5194  [pres, trump, tape, exist, conversation, comey, well, tell, maybe, sometime, near, future, pic, ...  \n",
            "5195  [dysfunction, plague, world, megacities, none, may, pernicious, bad, really, really, bad, traffi...  \n",
            "5196  [washington, gov, john, kasich, ohio, tuesday, signed, law, ban, abortion, 20, week, pregnancy, ...  \n",
            "5197  [good, morning, want, get, california, today, email, joanna, klein, science, writer, brings, u, ...  \n",
            "5199  [perhaps, seen, new, tv, series, whose, pilot, episode, begin, way, man, woman, sex, something, ...  \n",
            "\n",
            "[4575 rows x 3 columns]\n"
          ]
        },
        {
          "output_type": "stream",
          "name": "stderr",
          "text": [
            "/usr/local/lib/python3.8/dist-packages/sklearn/utils/deprecation.py:87: FutureWarning: Function get_feature_names is deprecated; get_feature_names is deprecated in 1.0 and will be removed in 1.2. Please use get_feature_names_out instead.\n",
            "  warnings.warn(msg, category=FutureWarning)\n"
          ]
        }
      ]
    },
    {
      "cell_type": "code",
      "source": [
        "from sklearn.model_selection import train_test_split\n",
        "x_train,x_test,y_train,y_test =train_test_split(x,y,random_state=10,train_size=0.6)\n",
        "\n"
      ],
      "metadata": {
        "id": "fmwM92FX5ytF"
      },
      "execution_count": null,
      "outputs": []
    },
    {
      "cell_type": "code",
      "source": [
        "import matplotlib.pyplot as plt\n",
        "import numpy as np\n",
        "from matplotlib.colors import ListedColormap\n",
        "from sklearn.preprocessing import StandardScaler\n",
        "from sklearn.naive_bayes import MultinomialNB\n",
        "from sklearn.naive_bayes import GaussianNB\n",
        "from sklearn.linear_model import PassiveAggressiveClassifier\n",
        "from sklearn.linear_model import LogisticRegression\n",
        "from sklearn.ensemble import RandomForestRegressor\n",
        "from sklearn.tree import DecisionTreeClassifier\n",
        "from sklearn.ensemble import RandomForestClassifier\n",
        "from sklearn.svm import SVC\n",
        "from sklearn.neighbors import  KNeighborsClassifier\n",
        "from sklearn.discriminant_analysis import QuadraticDiscriminantAnalysis\n",
        "from sklearn.metrics import precision_score,recall_score,auc,roc_curve,f1_score\n",
        "from sklearn.model_selection import train_test_split\n",
        "\n"
      ],
      "metadata": {
        "id": "X_nst6uVDfSe"
      },
      "execution_count": null,
      "outputs": []
    },
    {
      "cell_type": "code",
      "source": [
        "names=[\"KNN\",\"Linear_SVM\",\"RBF_SVM\",\"Decision Tree\",\"RFC\",\"MultinomialNB\" ,\"PassiveAggressiveClassifier\",\"Logistic\"]"
      ],
      "metadata": {
        "id": "7RQGFyT9FCM-"
      },
      "execution_count": null,
      "outputs": []
    },
    {
      "cell_type": "code",
      "source": [
        "classifier=[KNeighborsClassifier(3),\n",
        "            SVC(kernel='linear',C=1),\n",
        "            SVC(kernel='rbf',C=8),\n",
        "            DecisionTreeClassifier(),\n",
        "            RandomForestClassifier(),\n",
        "            MultinomialNB(),\n",
        "            PassiveAggressiveClassifier(),\n",
        "            LogisticRegression()]\n"
      ],
      "metadata": {
        "id": "mzop7xgSFJeQ"
      },
      "execution_count": null,
      "outputs": []
    },
    {
      "cell_type": "code",
      "source": [
        "model_column=[ ]\n",
        "DF=pd.DataFrame(columns=model_column)\n",
        "index=0\n",
        "for name,clf in zip(names,classifier):\n",
        "  clf.fit(x_train,y_train)\n",
        "  DF.loc[index,'classifier']=name\n",
        "  DF.loc[index,'Train_Accuracy']=clf.score(x_train,y_train)\n",
        "  DF.loc[index,'Test_Accuracy']=clf.score(x_test,y_test)\n",
        "  DF.loc[index,'Precision']=precision_score(y_test,clf.predict(x_test))\n",
        "  DF.loc[index,'Recall']=recall_score(y_test,clf.predict(x_test))\n",
        "  DF.loc[index,'f1']=f1_score(y_test,clf.predict(x_test))\n",
        "\n",
        "\n",
        "  index+=1"
      ],
      "metadata": {
        "id": "BZTKlfJSEsmM"
      },
      "execution_count": null,
      "outputs": []
    },
    {
      "cell_type": "code",
      "source": [
        "DF.describe()"
      ],
      "metadata": {
        "colab": {
          "base_uri": "https://localhost:8080/",
          "height": 300
        },
        "id": "K6ntR7SZEssn",
        "outputId": "cf1a3128-5689-4a37-c4ad-35a5dd0a43a6"
      },
      "execution_count": null,
      "outputs": [
        {
          "output_type": "execute_result",
          "data": {
            "text/plain": [
              "       Train_Accuracy  Test_Accuracy  Precision    Recall        f1\n",
              "count        8.000000       8.000000   8.000000  8.000000  8.000000\n",
              "mean         0.926685       0.811270   0.857228  0.757065  0.774393\n",
              "std          0.117690       0.112366   0.053987  0.260804  0.193467\n",
              "min          0.692896       0.606011   0.782531  0.228261  0.368098\n",
              "25%          0.904554       0.796721   0.831527  0.745380  0.779790\n",
              "50%          0.992168       0.852186   0.845502  0.872826  0.855383\n",
              "75%          1.000000       0.865574   0.868018  0.906793  0.869830\n",
              "max          1.000000       0.938251   0.950226  0.956522  0.939669"
            ],
            "text/html": [
              "\n",
              "  <div id=\"df-0e058481-4b83-4cce-9849-2543cf23128a\">\n",
              "    <div class=\"colab-df-container\">\n",
              "      <div>\n",
              "<style scoped>\n",
              "    .dataframe tbody tr th:only-of-type {\n",
              "        vertical-align: middle;\n",
              "    }\n",
              "\n",
              "    .dataframe tbody tr th {\n",
              "        vertical-align: top;\n",
              "    }\n",
              "\n",
              "    .dataframe thead th {\n",
              "        text-align: right;\n",
              "    }\n",
              "</style>\n",
              "<table border=\"1\" class=\"dataframe\">\n",
              "  <thead>\n",
              "    <tr style=\"text-align: right;\">\n",
              "      <th></th>\n",
              "      <th>Train_Accuracy</th>\n",
              "      <th>Test_Accuracy</th>\n",
              "      <th>Precision</th>\n",
              "      <th>Recall</th>\n",
              "      <th>f1</th>\n",
              "    </tr>\n",
              "  </thead>\n",
              "  <tbody>\n",
              "    <tr>\n",
              "      <th>count</th>\n",
              "      <td>8.000000</td>\n",
              "      <td>8.000000</td>\n",
              "      <td>8.000000</td>\n",
              "      <td>8.000000</td>\n",
              "      <td>8.000000</td>\n",
              "    </tr>\n",
              "    <tr>\n",
              "      <th>mean</th>\n",
              "      <td>0.926685</td>\n",
              "      <td>0.811270</td>\n",
              "      <td>0.857228</td>\n",
              "      <td>0.757065</td>\n",
              "      <td>0.774393</td>\n",
              "    </tr>\n",
              "    <tr>\n",
              "      <th>std</th>\n",
              "      <td>0.117690</td>\n",
              "      <td>0.112366</td>\n",
              "      <td>0.053987</td>\n",
              "      <td>0.260804</td>\n",
              "      <td>0.193467</td>\n",
              "    </tr>\n",
              "    <tr>\n",
              "      <th>min</th>\n",
              "      <td>0.692896</td>\n",
              "      <td>0.606011</td>\n",
              "      <td>0.782531</td>\n",
              "      <td>0.228261</td>\n",
              "      <td>0.368098</td>\n",
              "    </tr>\n",
              "    <tr>\n",
              "      <th>25%</th>\n",
              "      <td>0.904554</td>\n",
              "      <td>0.796721</td>\n",
              "      <td>0.831527</td>\n",
              "      <td>0.745380</td>\n",
              "      <td>0.779790</td>\n",
              "    </tr>\n",
              "    <tr>\n",
              "      <th>50%</th>\n",
              "      <td>0.992168</td>\n",
              "      <td>0.852186</td>\n",
              "      <td>0.845502</td>\n",
              "      <td>0.872826</td>\n",
              "      <td>0.855383</td>\n",
              "    </tr>\n",
              "    <tr>\n",
              "      <th>75%</th>\n",
              "      <td>1.000000</td>\n",
              "      <td>0.865574</td>\n",
              "      <td>0.868018</td>\n",
              "      <td>0.906793</td>\n",
              "      <td>0.869830</td>\n",
              "    </tr>\n",
              "    <tr>\n",
              "      <th>max</th>\n",
              "      <td>1.000000</td>\n",
              "      <td>0.938251</td>\n",
              "      <td>0.950226</td>\n",
              "      <td>0.956522</td>\n",
              "      <td>0.939669</td>\n",
              "    </tr>\n",
              "  </tbody>\n",
              "</table>\n",
              "</div>\n",
              "      <button class=\"colab-df-convert\" onclick=\"convertToInteractive('df-0e058481-4b83-4cce-9849-2543cf23128a')\"\n",
              "              title=\"Convert this dataframe to an interactive table.\"\n",
              "              style=\"display:none;\">\n",
              "        \n",
              "  <svg xmlns=\"http://www.w3.org/2000/svg\" height=\"24px\"viewBox=\"0 0 24 24\"\n",
              "       width=\"24px\">\n",
              "    <path d=\"M0 0h24v24H0V0z\" fill=\"none\"/>\n",
              "    <path d=\"M18.56 5.44l.94 2.06.94-2.06 2.06-.94-2.06-.94-.94-2.06-.94 2.06-2.06.94zm-11 1L8.5 8.5l.94-2.06 2.06-.94-2.06-.94L8.5 2.5l-.94 2.06-2.06.94zm10 10l.94 2.06.94-2.06 2.06-.94-2.06-.94-.94-2.06-.94 2.06-2.06.94z\"/><path d=\"M17.41 7.96l-1.37-1.37c-.4-.4-.92-.59-1.43-.59-.52 0-1.04.2-1.43.59L10.3 9.45l-7.72 7.72c-.78.78-.78 2.05 0 2.83L4 21.41c.39.39.9.59 1.41.59.51 0 1.02-.2 1.41-.59l7.78-7.78 2.81-2.81c.8-.78.8-2.07 0-2.86zM5.41 20L4 18.59l7.72-7.72 1.47 1.35L5.41 20z\"/>\n",
              "  </svg>\n",
              "      </button>\n",
              "      \n",
              "  <style>\n",
              "    .colab-df-container {\n",
              "      display:flex;\n",
              "      flex-wrap:wrap;\n",
              "      gap: 12px;\n",
              "    }\n",
              "\n",
              "    .colab-df-convert {\n",
              "      background-color: #E8F0FE;\n",
              "      border: none;\n",
              "      border-radius: 50%;\n",
              "      cursor: pointer;\n",
              "      display: none;\n",
              "      fill: #1967D2;\n",
              "      height: 32px;\n",
              "      padding: 0 0 0 0;\n",
              "      width: 32px;\n",
              "    }\n",
              "\n",
              "    .colab-df-convert:hover {\n",
              "      background-color: #E2EBFA;\n",
              "      box-shadow: 0px 1px 2px rgba(60, 64, 67, 0.3), 0px 1px 3px 1px rgba(60, 64, 67, 0.15);\n",
              "      fill: #174EA6;\n",
              "    }\n",
              "\n",
              "    [theme=dark] .colab-df-convert {\n",
              "      background-color: #3B4455;\n",
              "      fill: #D2E3FC;\n",
              "    }\n",
              "\n",
              "    [theme=dark] .colab-df-convert:hover {\n",
              "      background-color: #434B5C;\n",
              "      box-shadow: 0px 1px 3px 1px rgba(0, 0, 0, 0.15);\n",
              "      filter: drop-shadow(0px 1px 2px rgba(0, 0, 0, 0.3));\n",
              "      fill: #FFFFFF;\n",
              "    }\n",
              "  </style>\n",
              "\n",
              "      <script>\n",
              "        const buttonEl =\n",
              "          document.querySelector('#df-0e058481-4b83-4cce-9849-2543cf23128a button.colab-df-convert');\n",
              "        buttonEl.style.display =\n",
              "          google.colab.kernel.accessAllowed ? 'block' : 'none';\n",
              "\n",
              "        async function convertToInteractive(key) {\n",
              "          const element = document.querySelector('#df-0e058481-4b83-4cce-9849-2543cf23128a');\n",
              "          const dataTable =\n",
              "            await google.colab.kernel.invokeFunction('convertToInteractive',\n",
              "                                                     [key], {});\n",
              "          if (!dataTable) return;\n",
              "\n",
              "          const docLinkHtml = 'Like what you see? Visit the ' +\n",
              "            '<a target=\"_blank\" href=https://colab.research.google.com/notebooks/data_table.ipynb>data table notebook</a>'\n",
              "            + ' to learn more about interactive tables.';\n",
              "          element.innerHTML = '';\n",
              "          dataTable['output_type'] = 'display_data';\n",
              "          await google.colab.output.renderOutput(dataTable, element);\n",
              "          const docLink = document.createElement('div');\n",
              "          docLink.innerHTML = docLinkHtml;\n",
              "          element.appendChild(docLink);\n",
              "        }\n",
              "      </script>\n",
              "    </div>\n",
              "  </div>\n",
              "  "
            ]
          },
          "metadata": {},
          "execution_count": 18
        }
      ]
    },
    {
      "cell_type": "code",
      "source": [
        "DF"
      ],
      "metadata": {
        "colab": {
          "base_uri": "https://localhost:8080/",
          "height": 300
        },
        "id": "qKkIM98TEsv4",
        "outputId": "763147d2-9544-48d5-a440-f129ea867862"
      },
      "execution_count": null,
      "outputs": [
        {
          "output_type": "execute_result",
          "data": {
            "text/plain": [
              "                    classifier  Train_Accuracy  Test_Accuracy  Precision  \\\n",
              "0                          KNN        0.795264       0.670492   0.782531   \n",
              "1                   Linear_SVM        0.984335       0.865027   0.849429   \n",
              "2                      RBF_SVM        1.000000       0.867213   0.841574   \n",
              "3                Decision Tree        1.000000       0.838798   0.828601   \n",
              "4                          RFC        1.000000       0.938251   0.923400   \n",
              "5                MultinomialNB        0.692896       0.606011   0.950226   \n",
              "6  PassiveAggressiveClassifier        1.000000       0.842623   0.849558   \n",
              "7                     Logistic        0.940984       0.861749   0.832502   \n",
              "\n",
              "     Recall        f1  \n",
              "0  0.477174  0.592843  \n",
              "1  0.889130  0.868826  \n",
              "2  0.906522  0.872841  \n",
              "3  0.856522  0.842330  \n",
              "4  0.956522  0.939669  \n",
              "5  0.228261  0.368098  \n",
              "6  0.834783  0.842105  \n",
              "7  0.907609  0.868435  "
            ],
            "text/html": [
              "\n",
              "  <div id=\"df-0777b1a1-9802-4549-b011-d437155663e8\">\n",
              "    <div class=\"colab-df-container\">\n",
              "      <div>\n",
              "<style scoped>\n",
              "    .dataframe tbody tr th:only-of-type {\n",
              "        vertical-align: middle;\n",
              "    }\n",
              "\n",
              "    .dataframe tbody tr th {\n",
              "        vertical-align: top;\n",
              "    }\n",
              "\n",
              "    .dataframe thead th {\n",
              "        text-align: right;\n",
              "    }\n",
              "</style>\n",
              "<table border=\"1\" class=\"dataframe\">\n",
              "  <thead>\n",
              "    <tr style=\"text-align: right;\">\n",
              "      <th></th>\n",
              "      <th>classifier</th>\n",
              "      <th>Train_Accuracy</th>\n",
              "      <th>Test_Accuracy</th>\n",
              "      <th>Precision</th>\n",
              "      <th>Recall</th>\n",
              "      <th>f1</th>\n",
              "    </tr>\n",
              "  </thead>\n",
              "  <tbody>\n",
              "    <tr>\n",
              "      <th>0</th>\n",
              "      <td>KNN</td>\n",
              "      <td>0.795264</td>\n",
              "      <td>0.670492</td>\n",
              "      <td>0.782531</td>\n",
              "      <td>0.477174</td>\n",
              "      <td>0.592843</td>\n",
              "    </tr>\n",
              "    <tr>\n",
              "      <th>1</th>\n",
              "      <td>Linear_SVM</td>\n",
              "      <td>0.984335</td>\n",
              "      <td>0.865027</td>\n",
              "      <td>0.849429</td>\n",
              "      <td>0.889130</td>\n",
              "      <td>0.868826</td>\n",
              "    </tr>\n",
              "    <tr>\n",
              "      <th>2</th>\n",
              "      <td>RBF_SVM</td>\n",
              "      <td>1.000000</td>\n",
              "      <td>0.867213</td>\n",
              "      <td>0.841574</td>\n",
              "      <td>0.906522</td>\n",
              "      <td>0.872841</td>\n",
              "    </tr>\n",
              "    <tr>\n",
              "      <th>3</th>\n",
              "      <td>Decision Tree</td>\n",
              "      <td>1.000000</td>\n",
              "      <td>0.838798</td>\n",
              "      <td>0.828601</td>\n",
              "      <td>0.856522</td>\n",
              "      <td>0.842330</td>\n",
              "    </tr>\n",
              "    <tr>\n",
              "      <th>4</th>\n",
              "      <td>RFC</td>\n",
              "      <td>1.000000</td>\n",
              "      <td>0.938251</td>\n",
              "      <td>0.923400</td>\n",
              "      <td>0.956522</td>\n",
              "      <td>0.939669</td>\n",
              "    </tr>\n",
              "    <tr>\n",
              "      <th>5</th>\n",
              "      <td>MultinomialNB</td>\n",
              "      <td>0.692896</td>\n",
              "      <td>0.606011</td>\n",
              "      <td>0.950226</td>\n",
              "      <td>0.228261</td>\n",
              "      <td>0.368098</td>\n",
              "    </tr>\n",
              "    <tr>\n",
              "      <th>6</th>\n",
              "      <td>PassiveAggressiveClassifier</td>\n",
              "      <td>1.000000</td>\n",
              "      <td>0.842623</td>\n",
              "      <td>0.849558</td>\n",
              "      <td>0.834783</td>\n",
              "      <td>0.842105</td>\n",
              "    </tr>\n",
              "    <tr>\n",
              "      <th>7</th>\n",
              "      <td>Logistic</td>\n",
              "      <td>0.940984</td>\n",
              "      <td>0.861749</td>\n",
              "      <td>0.832502</td>\n",
              "      <td>0.907609</td>\n",
              "      <td>0.868435</td>\n",
              "    </tr>\n",
              "  </tbody>\n",
              "</table>\n",
              "</div>\n",
              "      <button class=\"colab-df-convert\" onclick=\"convertToInteractive('df-0777b1a1-9802-4549-b011-d437155663e8')\"\n",
              "              title=\"Convert this dataframe to an interactive table.\"\n",
              "              style=\"display:none;\">\n",
              "        \n",
              "  <svg xmlns=\"http://www.w3.org/2000/svg\" height=\"24px\"viewBox=\"0 0 24 24\"\n",
              "       width=\"24px\">\n",
              "    <path d=\"M0 0h24v24H0V0z\" fill=\"none\"/>\n",
              "    <path d=\"M18.56 5.44l.94 2.06.94-2.06 2.06-.94-2.06-.94-.94-2.06-.94 2.06-2.06.94zm-11 1L8.5 8.5l.94-2.06 2.06-.94-2.06-.94L8.5 2.5l-.94 2.06-2.06.94zm10 10l.94 2.06.94-2.06 2.06-.94-2.06-.94-.94-2.06-.94 2.06-2.06.94z\"/><path d=\"M17.41 7.96l-1.37-1.37c-.4-.4-.92-.59-1.43-.59-.52 0-1.04.2-1.43.59L10.3 9.45l-7.72 7.72c-.78.78-.78 2.05 0 2.83L4 21.41c.39.39.9.59 1.41.59.51 0 1.02-.2 1.41-.59l7.78-7.78 2.81-2.81c.8-.78.8-2.07 0-2.86zM5.41 20L4 18.59l7.72-7.72 1.47 1.35L5.41 20z\"/>\n",
              "  </svg>\n",
              "      </button>\n",
              "      \n",
              "  <style>\n",
              "    .colab-df-container {\n",
              "      display:flex;\n",
              "      flex-wrap:wrap;\n",
              "      gap: 12px;\n",
              "    }\n",
              "\n",
              "    .colab-df-convert {\n",
              "      background-color: #E8F0FE;\n",
              "      border: none;\n",
              "      border-radius: 50%;\n",
              "      cursor: pointer;\n",
              "      display: none;\n",
              "      fill: #1967D2;\n",
              "      height: 32px;\n",
              "      padding: 0 0 0 0;\n",
              "      width: 32px;\n",
              "    }\n",
              "\n",
              "    .colab-df-convert:hover {\n",
              "      background-color: #E2EBFA;\n",
              "      box-shadow: 0px 1px 2px rgba(60, 64, 67, 0.3), 0px 1px 3px 1px rgba(60, 64, 67, 0.15);\n",
              "      fill: #174EA6;\n",
              "    }\n",
              "\n",
              "    [theme=dark] .colab-df-convert {\n",
              "      background-color: #3B4455;\n",
              "      fill: #D2E3FC;\n",
              "    }\n",
              "\n",
              "    [theme=dark] .colab-df-convert:hover {\n",
              "      background-color: #434B5C;\n",
              "      box-shadow: 0px 1px 3px 1px rgba(0, 0, 0, 0.15);\n",
              "      filter: drop-shadow(0px 1px 2px rgba(0, 0, 0, 0.3));\n",
              "      fill: #FFFFFF;\n",
              "    }\n",
              "  </style>\n",
              "\n",
              "      <script>\n",
              "        const buttonEl =\n",
              "          document.querySelector('#df-0777b1a1-9802-4549-b011-d437155663e8 button.colab-df-convert');\n",
              "        buttonEl.style.display =\n",
              "          google.colab.kernel.accessAllowed ? 'block' : 'none';\n",
              "\n",
              "        async function convertToInteractive(key) {\n",
              "          const element = document.querySelector('#df-0777b1a1-9802-4549-b011-d437155663e8');\n",
              "          const dataTable =\n",
              "            await google.colab.kernel.invokeFunction('convertToInteractive',\n",
              "                                                     [key], {});\n",
              "          if (!dataTable) return;\n",
              "\n",
              "          const docLinkHtml = 'Like what you see? Visit the ' +\n",
              "            '<a target=\"_blank\" href=https://colab.research.google.com/notebooks/data_table.ipynb>data table notebook</a>'\n",
              "            + ' to learn more about interactive tables.';\n",
              "          element.innerHTML = '';\n",
              "          dataTable['output_type'] = 'display_data';\n",
              "          await google.colab.output.renderOutput(dataTable, element);\n",
              "          const docLink = document.createElement('div');\n",
              "          docLink.innerHTML = docLinkHtml;\n",
              "          element.appendChild(docLink);\n",
              "        }\n",
              "      </script>\n",
              "    </div>\n",
              "  </div>\n",
              "  "
            ]
          },
          "metadata": {},
          "execution_count": 19
        }
      ]
    },
    {
      "cell_type": "code",
      "source": [
        "import seaborn as sns\n",
        "sns.barplot(x='classifier',y='Train_Accuracy',data=DF,palette='hot',edgecolor=sns.color_palette('dark',7))\n",
        "plt.xticks(rotation=90)\n",
        "plt.title('Model Train_Accuracy Comparison')"
      ],
      "metadata": {
        "colab": {
          "base_uri": "https://localhost:8080/",
          "height": 440
        },
        "id": "1l3FGgJXFrjx",
        "outputId": "319d32bc-ba5e-4e68-8b84-3ca62864b870"
      },
      "execution_count": null,
      "outputs": [
        {
          "output_type": "execute_result",
          "data": {
            "text/plain": [
              "Text(0.5, 1.0, 'Model Train_Accuracy Comparison')"
            ]
          },
          "metadata": {},
          "execution_count": 20
        },
        {
          "output_type": "display_data",
          "data": {
            "text/plain": [
              "<Figure size 432x288 with 1 Axes>"
            ],
            "image/png": "[encoded data removed]"
          },
          "metadata": {
            "needs_background": "light"
          }
        }
      ]
    },
    {
      "cell_type": "code",
      "source": [
        "import seaborn as sns\n",
        "sns.barplot(x='classifier',y='Test_Accuracy',data=DF,palette='hot',edgecolor=sns.color_palette('dark',7))\n",
        "plt.xticks(rotation=90)\n",
        "plt.title('Model Test_Accuracy Comparison')"
      ],
      "metadata": {
        "colab": {
          "base_uri": "https://localhost:8080/",
          "height": 440
        },
        "id": "0bmOLSw5FrYH",
        "outputId": "fd767918-35f4-4156-b518-6c16a1cc046c"
      },
      "execution_count": null,
      "outputs": [
        {
          "output_type": "execute_result",
          "data": {
            "text/plain": [
              "Text(0.5, 1.0, 'Model Test_Accuracy Comparison')"
            ]
          },
          "metadata": {},
          "execution_count": 21
        },
        {
          "output_type": "display_data",
          "data": {
            "text/plain": [
              "<Figure size 432x288 with 1 Axes>"
            ],
            "image/png": "[encoded data removed]"
          },
          "metadata": {
            "needs_background": "light"
          }
        }
      ]
    },
    {
      "cell_type": "code",
      "source": [
        "import seaborn as sns\n",
        "sns.barplot(x='classifier',y='Recall',data=DF,palette='hot',edgecolor=sns.color_palette('dark',7))\n",
        "plt.xticks(rotation=90)\n",
        "plt.title('Model Recall Comparison')"
      ],
      "metadata": {
        "colab": {
          "base_uri": "https://localhost:8080/",
          "height": 440
        },
        "id": "kYqh3c-dFrGD",
        "outputId": "ab8450f0-f088-4880-d258-16a094191ff5"
      },
      "execution_count": null,
      "outputs": [
        {
          "output_type": "execute_result",
          "data": {
            "text/plain": [
              "Text(0.5, 1.0, 'Model Recall Comparison')"
            ]
          },
          "metadata": {},
          "execution_count": 22
        },
        {
          "output_type": "display_data",
          "data": {
            "text/plain": [
              "<Figure size 432x288 with 1 Axes>"
            ],
            "image/png": "[encoded data removed]"
          },
          "metadata": {
            "needs_background": "light"
          }
        }
      ]
    },
    {
      "cell_type": "code",
      "source": [
        "import seaborn as sns\n",
        "sns.barplot(x='classifier',y='f1',data=DF,palette='hot',edgecolor=sns.color_palette('dark',7))\n",
        "plt.xticks(rotation=90)\n",
        "plt.title('Model f1 Comparison')"
      ],
      "metadata": {
        "colab": {
          "base_uri": "https://localhost:8080/",
          "height": 440
        },
        "id": "ihK4XPiwF6QD",
        "outputId": "201e394e-eaa2-4bc3-ac71-00733dffc0d3"
      },
      "execution_count": null,
      "outputs": [
        {
          "output_type": "execute_result",
          "data": {
            "text/plain": [
              "Text(0.5, 1.0, 'Model f1 Comparison')"
            ]
          },
          "metadata": {},
          "execution_count": 23
        },
        {
          "output_type": "display_data",
          "data": {
            "text/plain": [
              "<Figure size 432x288 with 1 Axes>"
            ],
            "image/png": "[encoded data removed]"
          },
          "metadata": {
            "needs_background": "light"
          }
        }
      ]
    },
    {
      "cell_type": "code",
      "source": [
        "import seaborn as sns\n",
        "sns.barplot(x='classifier',y='Precision',data=DF,palette='hot',edgecolor=sns.color_palette('dark',7))\n",
        "plt.xticks(rotation=90)\n",
        "plt.title('Model Precision Comparison')"
      ],
      "metadata": {
        "colab": {
          "base_uri": "https://localhost:8080/",
          "height": 440
        },
        "id": "R8LtLD6LJfl8",
        "outputId": "e1d6df5b-4746-4e49-85a3-ed4a4c5b0fcb"
      },
      "execution_count": null,
      "outputs": [
        {
          "output_type": "execute_result",
          "data": {
            "text/plain": [
              "Text(0.5, 1.0, 'Model Precision Comparison')"
            ]
          },
          "metadata": {},
          "execution_count": 24
        },
        {
          "output_type": "display_data",
          "data": {
            "text/plain": [
              "<Figure size 432x288 with 1 Axes>"
            ],
            "image/png": "[encoded data removed]"
          },
          "metadata": {
            "needs_background": "light"
          }
        }
      ]
    },
    {
      "cell_type": "code",
      "source": [
        "d={'fontfamily':'monospace','fontweight':'bold','fontsize':\"x-large\"}\n",
        "plt.plot(DF.classifier,DF.Train_Accuracy,marker=\"*\",color='green',label='Train_Accuracy')\n",
        "plt.plot(DF.classifier,DF.Test_Accuracy,marker=\"+\",color='blue',label='Test_Accuracy')\n",
        "plt.plot(DF.classifier,DF.Precision,marker=\"*\",color='red',label='Precision')\n",
        "plt.plot(DF.classifier,DF.Recall,marker=\"+\",color='magenta',label='Recall')\n",
        "plt.ylabel('Train_Accuracy,Test_Accuracy\\nPrecision and Recall',fontdict=d)\n",
        "plt.xlabel('classifier',fontdict=d)\n",
        "plt.legend(loc=[0.2,0.2])\n",
        "plt.xticks(rotation=90)\n",
        "plt.title('classifier vs Train_Accuracy,Test_Accuracy\\nPrecision and Recall',fontdict=d)"
      ],
      "metadata": {
        "colab": {
          "base_uri": "https://localhost:8080/",
          "height": 462
        },
        "id": "v50y1ngxJftB",
        "outputId": "17fcd5f6-c813-4d9e-c163-fa0e59977a1c"
      },
      "execution_count": null,
      "outputs": [
        {
          "output_type": "execute_result",
          "data": {
            "text/plain": [
              "Text(0.5, 1.0, 'classifier vs Train_Accuracy,Test_Accuracy\\nPrecision and Recall')"
            ]
          },
          "metadata": {},
          "execution_count": 25
        },
        {
          "output_type": "display_data",
          "data": {
            "text/plain": [
              "<Figure size 432x288 with 1 Axes>"
            ],
            "image/png": "[encoded data removed]"
          },
          "metadata": {
            "needs_background": "light"
          }
        }
      ]
    },
    {
      "cell_type": "code",
      "source": [
        "sns.pairplot(DF)"
      ],
      "metadata": {
        "colab": {
          "base_uri": "https://localhost:8080/",
          "height": 920
        },
        "id": "z4xQtGyOJwfg",
        "outputId": "512729c2-933f-45cd-de0a-312037a5c02e"
      },
      "execution_count": null,
      "outputs": [
        {
          "output_type": "execute_result",
          "data": {
            "text/plain": [
              "<seaborn.axisgrid.PairGrid at 0x7f9f9ea828b0>"
            ]
          },
          "metadata": {},
          "execution_count": 26
        },
        {
          "output_type": "display_data",
          "data": {
            "text/plain": [
              "<Figure size 900x900 with 30 Axes>"
            ],
            "image/png": "[encoded data removed]"
          },
          "metadata": {
            "needs_background": "light"
          }
        }
      ]
    },
    {
      "cell_type": "code",
      "source": [
        "DF.to_excel('/content/grieve/MyDrive/Colab Notebooks/tfidf df1.xlsx',sheet_name=\"aman\",startrow=2,startcol=5)"
      ],
      "metadata": {
        "id": "sYAGn9X1K0xg"
      },
      "execution_count": null,
      "outputs": []
    },
    {
      "cell_type": "code",
      "source": [
        "DF.to_excel('/content/grieve/MyDrive/Colab Notebooks/tfidf N2.xlsx',sheet_name=\"aman\",startrow=2,startcol=5)"
      ],
      "metadata": {
        "id": "qQkmAEIKDkMG"
      },
      "execution_count": null,
      "outputs": []
    },
    {
      "cell_type": "code",
      "source": [],
      "metadata": {
        "id": "_P3zpy7WrCT_"
      },
      "execution_count": null,
      "outputs": []
    }
  ]
}