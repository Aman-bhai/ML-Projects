{
  "cells": [
    {
      "cell_type": "code",
      "execution_count": null,
      "metadata": {
        "colab": {
          "base_uri": "https://localhost:8080/"
        },
        "id": "vPXXlN4MUVGl",
        "outputId": "dfbe2f7d-e21c-43b0-bd72-5199382dc094"
      },
      "outputs": [
        {
          "output_type": "stream",
          "name": "stdout",
          "text": [
            "Mounted at /content/grieve\n"
          ]
        }
      ],
      "source": [
        "import pandas as pd\n",
        "import matplotlib.pyplot as plt\n",
        "import pandas as pd\n",
        "from google.colab import drive\n",
        "drive.mount('/content/grieve')"
      ]
    },
    {
      "cell_type": "code",
      "execution_count": null,
      "metadata": {
        "id": "FtgcNk76UW0A"
      },
      "outputs": [],
      "source": [
        "df=pd.set_option('display.max_colwidth',100)\n",
        "df"
      ]
    },
    {
      "cell_type": "code",
      "execution_count": null,
      "metadata": {
        "id": "HViFLxMcUZcb"
      },
      "outputs": [],
      "source": [
        "df=pd.read_csv('/content/grieve/MyDrive/Colab Notebooks/project ml/fake news /test.csv')\n",
        "df1=pd.read_csv('/content/grieve/MyDrive/Colab Notebooks/project ml/fake news /submit.csv')\n"
      ]
    },
    {
      "cell_type": "code",
      "execution_count": null,
      "metadata": {
        "id": "0xHxTciCUjwC"
      },
      "outputs": [],
      "source": [
        "df['label']=df1['label']\n",
        "df.dropna(inplace=True)"
      ]
    },
    {
      "cell_type": "code",
      "execution_count": null,
      "metadata": {
        "colab": {
          "base_uri": "https://localhost:8080/"
        },
        "id": "F-qSoAnEUsB0",
        "outputId": "d1ed5fb5-b790-4598-9b19-e0ef74b01735"
      },
      "outputs": [
        {
          "output_type": "stream",
          "name": "stderr",
          "text": [
            "[nltk_data] Downloading package stopwords to /root/nltk_data...\n",
            "[nltk_data]   Unzipping corpora/stopwords.zip.\n",
            "[nltk_data] Downloading package omw-1.4 to /root/nltk_data...\n",
            "[nltk_data] Downloading package wordnet to /root/nltk_data...\n"
          ]
        }
      ],
      "source": [
        "from nltk.stem.wordnet import WordNetLemmatizer\n",
        "import re\n",
        "import nltk\n",
        "nltk.download('stopwords')\n",
        "nltk.download('omw-1.4')\n",
        "nltk.download('wordnet')\n",
        "from nltk.corpus import stopwords as s\n",
        "wn=WordNetLemmatizer()\n",
        "stop_words=s.words('english')"
      ]
    },
    {
      "cell_type": "code",
      "execution_count": null,
      "metadata": {
        "id": "gYxfQ3_7UvKN"
      },
      "outputs": [],
      "source": [
        "import string\n",
        "def clean_text(text):\n",
        "  remov_pun=''.join([c for c in text if c not in string.punctuation])\n",
        "  tokens=re.split('\\W+',remov_pun)\n",
        "  text=[ wn.lemmatize(word) for word in tokens if word not in stop_words]\n",
        "  return text\n",
        "\n",
        "df['clean_text']=df['text'].apply(lambda x:clean_text(x.lower()))"
      ]
    },
    {
      "cell_type": "code",
      "execution_count": null,
      "metadata": {
        "colab": {
          "base_uri": "https://localhost:8080/"
        },
        "id": "AkOAvfP5VE_4",
        "outputId": "d791c613-428d-42d2-dddb-4a4d801d8c2a"
      },
      "outputs": [
        {
          "output_type": "stream",
          "name": "stderr",
          "text": [
            "/usr/local/lib/python3.8/dist-packages/sklearn/utils/deprecation.py:87: FutureWarning: Function get_feature_names is deprecated; get_feature_names is deprecated in 1.0 and will be removed in 1.2. Please use get_feature_names_out instead.\n",
            "  warnings.warn(msg, category=FutureWarning)\n"
          ]
        }
      ],
      "source": [
        "df.drop(['title','author','id'],axis='columns',inplace=True)\n",
        "from sklearn.feature_extraction.text import CountVectorizer\n",
        "cv=CountVectorizer(analyzer=clean_text)\n",
        "x=cv.fit(df['text'])\n",
        "x=cv.transform(df['text'])\n",
        "u=pd.DataFrame(x.toarray())\n",
        "df2=pd.DataFrame(x.toarray(),columns=cv.get_feature_names())\n"
      ]
    },
    {
      "cell_type": "code",
      "execution_count": null,
      "metadata": {
        "id": "U-i3ij9MVcYq"
      },
      "outputs": [],
      "source": [
        "import matplotlib.pyplot as plt\n",
        "import numpy as np\n",
        "from matplotlib.colors import ListedColormap\n",
        "from sklearn.preprocessing import StandardScaler\n",
        "from sklearn.naive_bayes import MultinomialNB\n",
        "from sklearn.linear_model import PassiveAggressiveClassifier\n",
        "from sklearn.linear_model import LogisticRegression\n",
        "\n",
        "from sklearn.tree import DecisionTreeClassifier\n",
        "from sklearn.ensemble import RandomForestClassifier\n",
        "from sklearn.svm import SVC\n",
        "from sklearn.neighbors import  KNeighborsClassifier\n",
        "from sklearn.metrics import precision_score,recall_score,auc,roc_curve,f1_score\n",
        "from sklearn.model_selection import train_test_split\n",
        "\n"
      ]
    },
    {
      "cell_type": "code",
      "execution_count": null,
      "metadata": {
        "id": "vByMzp1UYbHY"
      },
      "outputs": [],
      "source": [
        "names=[\"KNN\",\"Linear_SVM\",\"RBF_SVM\",\"Decision Tree\",\"RFC\",\"MultinomialNB\" ,\"PassiveAggressiveClassifier\",\"Logistic\"]"
      ]
    },
    {
      "cell_type": "code",
      "execution_count": null,
      "metadata": {
        "id": "RxU0-NjQZsqm"
      },
      "outputs": [],
      "source": [
        "classifier=[KNeighborsClassifier(3),\n",
        "            SVC(kernel='linear',C=1),\n",
        "            SVC(kernel='rbf',C=8),\n",
        "            DecisionTreeClassifier(),\n",
        "            RandomForestClassifier(),\n",
        "            MultinomialNB(),\n",
        "            PassiveAggressiveClassifier(),\n",
        "            LogisticRegression()]\n"
      ]
    },
    {
      "cell_type": "code",
      "execution_count": null,
      "metadata": {
        "colab": {
          "base_uri": "https://localhost:8080/"
        },
        "id": "FGKwo9Bieq2q",
        "outputId": "b420564a-11b7-4800-af8d-7d9873997e56"
      },
      "outputs": [
        {
          "output_type": "execute_result",
          "data": {
            "text/plain": [
              "0       0\n",
              "2       0\n",
              "3       1\n",
              "4       1\n",
              "6       1\n",
              "       ..\n",
              "5194    1\n",
              "5195    0\n",
              "5196    1\n",
              "5197    0\n",
              "5199    0\n",
              "Name: label, Length: 4575, dtype: int64"
            ]
          },
          "metadata": {},
          "execution_count": 11
        }
      ],
      "source": [
        "y=df.label\n",
        "y"
      ]
    },
    {
      "cell_type": "code",
      "execution_count": null,
      "metadata": {
        "id": "6RMdzsxjb9Wk"
      },
      "outputs": [],
      "source": [
        "x_train,x_test,y_train,y_test =train_test_split(x,y,random_state=10,train_size=0.6)\n",
        "\n"
      ]
    },
    {
      "cell_type": "code",
      "execution_count": null,
      "metadata": {
        "colab": {
          "base_uri": "https://localhost:8080/"
        },
        "id": "EYKE0TuueXAl",
        "outputId": "aabb097b-52df-4a4d-eefd-fabef4d61e05"
      },
      "outputs": [
        {
          "output_type": "stream",
          "name": "stderr",
          "text": [
            "/usr/local/lib/python3.8/dist-packages/sklearn/linear_model/_logistic.py:814: ConvergenceWarning: lbfgs failed to converge (status=1):\n",
            "STOP: TOTAL NO. of ITERATIONS REACHED LIMIT.\n",
            "\n",
            "Increase the number of iterations (max_iter) or scale the data as shown in:\n",
            "    https://scikit-learn.org/stable/modules/preprocessing.html\n",
            "Please also refer to the documentation for alternative solver options:\n",
            "    https://scikit-learn.org/stable/modules/linear_model.html#logistic-regression\n",
            "  n_iter_i = _check_optimize_result(\n"
          ]
        }
      ],
      "source": [
        "model_column=[ ]\n",
        "DF=pd.DataFrame(columns=model_column)\n",
        "index=0\n",
        "for name,clf in zip(names,classifier):\n",
        "  clf.fit(x_train,y_train)\n",
        "  DF.loc[index,'classifier']=name\n",
        "  DF.loc[index,'Train_Accuracy']=clf.score(x_train,y_train)\n",
        "  DF.loc[index,'Test_Accuracy']=clf.score(x_test,y_test)\n",
        "  DF.loc[index,'Precision']=precision_score(y_test,clf.predict(x_test))\n",
        "  DF.loc[index,'Recall']=recall_score(y_test,clf.predict(x_test))\n",
        "  DF.loc[index,'f1']=f1_score(y_test,clf.predict(x_test))\n",
        "\n",
        "\n",
        "  index+=1"
      ]
    },
    {
      "cell_type": "code",
      "execution_count": null,
      "metadata": {
        "colab": {
          "base_uri": "https://localhost:8080/",
          "height": 300
        },
        "id": "uuvNNMr0fJ1p",
        "outputId": "e66c1ae7-3073-4823-a324-231cee02490f"
      },
      "outputs": [
        {
          "output_type": "execute_result",
          "data": {
            "text/plain": [
              "                    classifier  Train_Accuracy  Test_Accuracy  Precision  \\\n",
              "0                          KNN        0.684882       0.610383   0.563380   \n",
              "1                   Linear_SVM        1.000000       0.957377   0.940377   \n",
              "2                      RBF_SVM        1.000000       0.964481   0.958199   \n",
              "3                Decision Tree        1.000000       0.842623   0.829854   \n",
              "4                          RFC        1.000000       0.937158   0.904523   \n",
              "5                MultinomialNB        0.888889       0.700546   0.892405   \n",
              "6  PassiveAggressiveClassifier        1.000000       0.780328   0.772632   \n",
              "7                     Logistic        1.000000       0.956831   0.938478   \n",
              "\n",
              "     Recall        f1  \n",
              "0  1.000000  0.720721  \n",
              "1  0.977174  0.958422  \n",
              "2  0.971739  0.964922  \n",
              "3  0.864130  0.846645  \n",
              "4  0.978261  0.939948  \n",
              "5  0.459783  0.606887  \n",
              "6  0.797826  0.785027  \n",
              "7  0.978261  0.957956  "
            ],
            "text/html": [
              "\n",
              "  <div id=\"df-b2bee97e-7d44-4b16-ad63-15552e69e5bb\">\n",
              "    <div class=\"colab-df-container\">\n",
              "      <div>\n",
              "<style scoped>\n",
              "    .dataframe tbody tr th:only-of-type {\n",
              "        vertical-align: middle;\n",
              "    }\n",
              "\n",
              "    .dataframe tbody tr th {\n",
              "        vertical-align: top;\n",
              "    }\n",
              "\n",
              "    .dataframe thead th {\n",
              "        text-align: right;\n",
              "    }\n",
              "</style>\n",
              "<table border=\"1\" class=\"dataframe\">\n",
              "  <thead>\n",
              "    <tr style=\"text-align: right;\">\n",
              "      <th></th>\n",
              "      <th>classifier</th>\n",
              "      <th>Train_Accuracy</th>\n",
              "      <th>Test_Accuracy</th>\n",
              "      <th>Precision</th>\n",
              "      <th>Recall</th>\n",
              "      <th>f1</th>\n",
              "    </tr>\n",
              "  </thead>\n",
              "  <tbody>\n",
              "    <tr>\n",
              "      <th>0</th>\n",
              "      <td>KNN</td>\n",
              "      <td>0.684882</td>\n",
              "      <td>0.610383</td>\n",
              "      <td>0.563380</td>\n",
              "      <td>1.000000</td>\n",
              "      <td>0.720721</td>\n",
              "    </tr>\n",
              "    <tr>\n",
              "      <th>1</th>\n",
              "      <td>Linear_SVM</td>\n",
              "      <td>1.000000</td>\n",
              "      <td>0.957377</td>\n",
              "      <td>0.940377</td>\n",
              "      <td>0.977174</td>\n",
              "      <td>0.958422</td>\n",
              "    </tr>\n",
              "    <tr>\n",
              "      <th>2</th>\n",
              "      <td>RBF_SVM</td>\n",
              "      <td>1.000000</td>\n",
              "      <td>0.964481</td>\n",
              "      <td>0.958199</td>\n",
              "      <td>0.971739</td>\n",
              "      <td>0.964922</td>\n",
              "    </tr>\n",
              "    <tr>\n",
              "      <th>3</th>\n",
              "      <td>Decision Tree</td>\n",
              "      <td>1.000000</td>\n",
              "      <td>0.842623</td>\n",
              "      <td>0.829854</td>\n",
              "      <td>0.864130</td>\n",
              "      <td>0.846645</td>\n",
              "    </tr>\n",
              "    <tr>\n",
              "      <th>4</th>\n",
              "      <td>RFC</td>\n",
              "      <td>1.000000</td>\n",
              "      <td>0.937158</td>\n",
              "      <td>0.904523</td>\n",
              "      <td>0.978261</td>\n",
              "      <td>0.939948</td>\n",
              "    </tr>\n",
              "    <tr>\n",
              "      <th>5</th>\n",
              "      <td>MultinomialNB</td>\n",
              "      <td>0.888889</td>\n",
              "      <td>0.700546</td>\n",
              "      <td>0.892405</td>\n",
              "      <td>0.459783</td>\n",
              "      <td>0.606887</td>\n",
              "    </tr>\n",
              "    <tr>\n",
              "      <th>6</th>\n",
              "      <td>PassiveAggressiveClassifier</td>\n",
              "      <td>1.000000</td>\n",
              "      <td>0.780328</td>\n",
              "      <td>0.772632</td>\n",
              "      <td>0.797826</td>\n",
              "      <td>0.785027</td>\n",
              "    </tr>\n",
              "    <tr>\n",
              "      <th>7</th>\n",
              "      <td>Logistic</td>\n",
              "      <td>1.000000</td>\n",
              "      <td>0.956831</td>\n",
              "      <td>0.938478</td>\n",
              "      <td>0.978261</td>\n",
              "      <td>0.957956</td>\n",
              "    </tr>\n",
              "  </tbody>\n",
              "</table>\n",
              "</div>\n",
              "      <button class=\"colab-df-convert\" onclick=\"convertToInteractive('df-b2bee97e-7d44-4b16-ad63-15552e69e5bb')\"\n",
              "              title=\"Convert this dataframe to an interactive table.\"\n",
              "              style=\"display:none;\">\n",
              "        \n",
              "  <svg xmlns=\"http://www.w3.org/2000/svg\" height=\"24px\"viewBox=\"0 0 24 24\"\n",
              "       width=\"24px\">\n",
              "    <path d=\"M0 0h24v24H0V0z\" fill=\"none\"/>\n",
              "    <path d=\"M18.56 5.44l.94 2.06.94-2.06 2.06-.94-2.06-.94-.94-2.06-.94 2.06-2.06.94zm-11 1L8.5 8.5l.94-2.06 2.06-.94-2.06-.94L8.5 2.5l-.94 2.06-2.06.94zm10 10l.94 2.06.94-2.06 2.06-.94-2.06-.94-.94-2.06-.94 2.06-2.06.94z\"/><path d=\"M17.41 7.96l-1.37-1.37c-.4-.4-.92-.59-1.43-.59-.52 0-1.04.2-1.43.59L10.3 9.45l-7.72 7.72c-.78.78-.78 2.05 0 2.83L4 21.41c.39.39.9.59 1.41.59.51 0 1.02-.2 1.41-.59l7.78-7.78 2.81-2.81c.8-.78.8-2.07 0-2.86zM5.41 20L4 18.59l7.72-7.72 1.47 1.35L5.41 20z\"/>\n",
              "  </svg>\n",
              "      </button>\n",
              "      \n",
              "  <style>\n",
              "    .colab-df-container {\n",
              "      display:flex;\n",
              "      flex-wrap:wrap;\n",
              "      gap: 12px;\n",
              "    }\n",
              "\n",
              "    .colab-df-convert {\n",
              "      background-color: #E8F0FE;\n",
              "      border: none;\n",
              "      border-radius: 50%;\n",
              "      cursor: pointer;\n",
              "      display: none;\n",
              "      fill: #1967D2;\n",
              "      height: 32px;\n",
              "      padding: 0 0 0 0;\n",
              "      width: 32px;\n",
              "    }\n",
              "\n",
              "    .colab-df-convert:hover {\n",
              "      background-color: #E2EBFA;\n",
              "      box-shadow: 0px 1px 2px rgba(60, 64, 67, 0.3), 0px 1px 3px 1px rgba(60, 64, 67, 0.15);\n",
              "      fill: #174EA6;\n",
              "    }\n",
              "\n",
              "    [theme=dark] .colab-df-convert {\n",
              "      background-color: #3B4455;\n",
              "      fill: #D2E3FC;\n",
              "    }\n",
              "\n",
              "    [theme=dark] .colab-df-convert:hover {\n",
              "      background-color: #434B5C;\n",
              "      box-shadow: 0px 1px 3px 1px rgba(0, 0, 0, 0.15);\n",
              "      filter: drop-shadow(0px 1px 2px rgba(0, 0, 0, 0.3));\n",
              "      fill: #FFFFFF;\n",
              "    }\n",
              "  </style>\n",
              "\n",
              "      <script>\n",
              "        const buttonEl =\n",
              "          document.querySelector('#df-b2bee97e-7d44-4b16-ad63-15552e69e5bb button.colab-df-convert');\n",
              "        buttonEl.style.display =\n",
              "          google.colab.kernel.accessAllowed ? 'block' : 'none';\n",
              "\n",
              "        async function convertToInteractive(key) {\n",
              "          const element = document.querySelector('#df-b2bee97e-7d44-4b16-ad63-15552e69e5bb');\n",
              "          const dataTable =\n",
              "            await google.colab.kernel.invokeFunction('convertToInteractive',\n",
              "                                                     [key], {});\n",
              "          if (!dataTable) return;\n",
              "\n",
              "          const docLinkHtml = 'Like what you see? Visit the ' +\n",
              "            '<a target=\"_blank\" href=https://colab.research.google.com/notebooks/data_table.ipynb>data table notebook</a>'\n",
              "            + ' to learn more about interactive tables.';\n",
              "          element.innerHTML = '';\n",
              "          dataTable['output_type'] = 'display_data';\n",
              "          await google.colab.output.renderOutput(dataTable, element);\n",
              "          const docLink = document.createElement('div');\n",
              "          docLink.innerHTML = docLinkHtml;\n",
              "          element.appendChild(docLink);\n",
              "        }\n",
              "      </script>\n",
              "    </div>\n",
              "  </div>\n",
              "  "
            ]
          },
          "metadata": {},
          "execution_count": 14
        }
      ],
      "source": [
        "DF"
      ]
    },
    {
      "cell_type": "code",
      "source": [
        "DF.to_excel('/content/grieve/MyDrive/Colab Notebooks/project ml/fake news/data frame.xlsx')"
      ],
      "metadata": {
        "colab": {
          "base_uri": "https://localhost:8080/",
          "height": 346
        },
        "id": "jYiyJ7904-ce",
        "outputId": "7ab8c1dc-dc31-40cc-e989-aa408260ed3f"
      },
      "execution_count": null,
      "outputs": [
        {
          "output_type": "error",
          "ename": "FileNotFoundError",
          "evalue": "ignored",
          "traceback": [
            "\u001b[0;31m---------------------------------------------------------------------------\u001b[0m",
            "\u001b[0;31mFileNotFoundError\u001b[0m                         Traceback (most recent call last)",
            "\u001b[0;32m<ipython-input-27-fbad463f7dab>\u001b[0m in \u001b[0;36m<module>\u001b[0;34m\u001b[0m\n\u001b[0;32m----> 1\u001b[0;31m \u001b[0mDF\u001b[0m\u001b[0;34m.\u001b[0m\u001b[0mto_excel\u001b[0m\u001b[0;34m(\u001b[0m\u001b[0;34m'/content/grieve/MyDrive/Colab Notebooks/project ml/fake news/data frame.xlsx'\u001b[0m\u001b[0;34m)\u001b[0m\u001b[0;34m\u001b[0m\u001b[0;34m\u001b[0m\u001b[0m\n\u001b[0m",
            "\u001b[0;32m/usr/local/lib/python3.8/dist-packages/pandas/core/generic.py\u001b[0m in \u001b[0;36mto_excel\u001b[0;34m(self, excel_writer, sheet_name, na_rep, float_format, columns, header, index, index_label, startrow, startcol, engine, merge_cells, encoding, inf_rep, verbose, freeze_panes, storage_options)\u001b[0m\n\u001b[1;32m   2282\u001b[0m             \u001b[0minf_rep\u001b[0m\u001b[0;34m=\u001b[0m\u001b[0minf_rep\u001b[0m\u001b[0;34m,\u001b[0m\u001b[0;34m\u001b[0m\u001b[0;34m\u001b[0m\u001b[0m\n\u001b[1;32m   2283\u001b[0m         )\n\u001b[0;32m-> 2284\u001b[0;31m         formatter.write(\n\u001b[0m\u001b[1;32m   2285\u001b[0m             \u001b[0mexcel_writer\u001b[0m\u001b[0;34m,\u001b[0m\u001b[0;34m\u001b[0m\u001b[0;34m\u001b[0m\u001b[0m\n\u001b[1;32m   2286\u001b[0m             \u001b[0msheet_name\u001b[0m\u001b[0;34m=\u001b[0m\u001b[0msheet_name\u001b[0m\u001b[0;34m,\u001b[0m\u001b[0;34m\u001b[0m\u001b[0;34m\u001b[0m\u001b[0m\n",
            "\u001b[0;32m/usr/local/lib/python3.8/dist-packages/pandas/io/formats/excel.py\u001b[0m in \u001b[0;36mwrite\u001b[0;34m(self, writer, sheet_name, startrow, startcol, freeze_panes, engine, storage_options)\u001b[0m\n\u001b[1;32m    832\u001b[0m             \u001b[0;31m# error: Cannot instantiate abstract class 'ExcelWriter' with abstract\u001b[0m\u001b[0;34m\u001b[0m\u001b[0;34m\u001b[0m\u001b[0;34m\u001b[0m\u001b[0m\n\u001b[1;32m    833\u001b[0m             \u001b[0;31m# attributes 'engine', 'save', 'supported_extensions' and 'write_cells'\u001b[0m\u001b[0;34m\u001b[0m\u001b[0;34m\u001b[0m\u001b[0;34m\u001b[0m\u001b[0m\n\u001b[0;32m--> 834\u001b[0;31m             writer = ExcelWriter(  # type: ignore[abstract]\n\u001b[0m\u001b[1;32m    835\u001b[0m                 \u001b[0mwriter\u001b[0m\u001b[0;34m,\u001b[0m \u001b[0mengine\u001b[0m\u001b[0;34m=\u001b[0m\u001b[0mengine\u001b[0m\u001b[0;34m,\u001b[0m \u001b[0mstorage_options\u001b[0m\u001b[0;34m=\u001b[0m\u001b[0mstorage_options\u001b[0m\u001b[0;34m\u001b[0m\u001b[0;34m\u001b[0m\u001b[0m\n\u001b[1;32m    836\u001b[0m             )\n",
            "\u001b[0;32m/usr/local/lib/python3.8/dist-packages/pandas/io/excel/_openpyxl.py\u001b[0m in \u001b[0;36m__init__\u001b[0;34m(self, path, engine, date_format, datetime_format, mode, storage_options, if_sheet_exists, engine_kwargs, **kwargs)\u001b[0m\n\u001b[1;32m     50\u001b[0m         \u001b[0mengine_kwargs\u001b[0m \u001b[0;34m=\u001b[0m \u001b[0mcombine_kwargs\u001b[0m\u001b[0;34m(\u001b[0m\u001b[0mengine_kwargs\u001b[0m\u001b[0;34m,\u001b[0m \u001b[0mkwargs\u001b[0m\u001b[0;34m)\u001b[0m\u001b[0;34m\u001b[0m\u001b[0;34m\u001b[0m\u001b[0m\n\u001b[1;32m     51\u001b[0m \u001b[0;34m\u001b[0m\u001b[0m\n\u001b[0;32m---> 52\u001b[0;31m         super().__init__(\n\u001b[0m\u001b[1;32m     53\u001b[0m             \u001b[0mpath\u001b[0m\u001b[0;34m,\u001b[0m\u001b[0;34m\u001b[0m\u001b[0;34m\u001b[0m\u001b[0m\n\u001b[1;32m     54\u001b[0m             \u001b[0mmode\u001b[0m\u001b[0;34m=\u001b[0m\u001b[0mmode\u001b[0m\u001b[0;34m,\u001b[0m\u001b[0;34m\u001b[0m\u001b[0;34m\u001b[0m\u001b[0m\n",
            "\u001b[0;32m/usr/local/lib/python3.8/dist-packages/pandas/io/excel/_base.py\u001b[0m in \u001b[0;36m__init__\u001b[0;34m(self, path, engine, date_format, datetime_format, mode, storage_options, if_sheet_exists, engine_kwargs, **kwargs)\u001b[0m\n\u001b[1;32m    923\u001b[0m         \u001b[0mself\u001b[0m\u001b[0;34m.\u001b[0m\u001b[0mhandles\u001b[0m \u001b[0;34m=\u001b[0m \u001b[0mIOHandles\u001b[0m\u001b[0;34m(\u001b[0m\u001b[0mcast\u001b[0m\u001b[0;34m(\u001b[0m\u001b[0mBuffer\u001b[0m\u001b[0;34m,\u001b[0m \u001b[0mpath\u001b[0m\u001b[0;34m)\u001b[0m\u001b[0;34m,\u001b[0m \u001b[0mcompression\u001b[0m\u001b[0;34m=\u001b[0m\u001b[0;34m{\u001b[0m\u001b[0;34m\"copression\"\u001b[0m\u001b[0;34m:\u001b[0m \u001b[0;32mNone\u001b[0m\u001b[0;34m}\u001b[0m\u001b[0;34m)\u001b[0m\u001b[0;34m\u001b[0m\u001b[0;34m\u001b[0m\u001b[0m\n\u001b[1;32m    924\u001b[0m         \u001b[0;32mif\u001b[0m \u001b[0;32mnot\u001b[0m \u001b[0misinstance\u001b[0m\u001b[0;34m(\u001b[0m\u001b[0mpath\u001b[0m\u001b[0;34m,\u001b[0m \u001b[0mExcelWriter\u001b[0m\u001b[0;34m)\u001b[0m\u001b[0;34m:\u001b[0m\u001b[0;34m\u001b[0m\u001b[0;34m\u001b[0m\u001b[0m\n\u001b[0;32m--> 925\u001b[0;31m             self.handles = get_handle(\n\u001b[0m\u001b[1;32m    926\u001b[0m                 \u001b[0mpath\u001b[0m\u001b[0;34m,\u001b[0m \u001b[0mmode\u001b[0m\u001b[0;34m,\u001b[0m \u001b[0mstorage_options\u001b[0m\u001b[0;34m=\u001b[0m\u001b[0mstorage_options\u001b[0m\u001b[0;34m,\u001b[0m \u001b[0mis_text\u001b[0m\u001b[0;34m=\u001b[0m\u001b[0;32mFalse\u001b[0m\u001b[0;34m\u001b[0m\u001b[0;34m\u001b[0m\u001b[0m\n\u001b[1;32m    927\u001b[0m             )\n",
            "\u001b[0;32m/usr/local/lib/python3.8/dist-packages/pandas/io/common.py\u001b[0m in \u001b[0;36mget_handle\u001b[0;34m(path_or_buf, mode, encoding, compression, memory_map, is_text, errors, storage_options)\u001b[0m\n\u001b[1;32m    709\u001b[0m         \u001b[0;32melse\u001b[0m\u001b[0;34m:\u001b[0m\u001b[0;34m\u001b[0m\u001b[0;34m\u001b[0m\u001b[0m\n\u001b[1;32m    710\u001b[0m             \u001b[0;31m# Binary mode\u001b[0m\u001b[0;34m\u001b[0m\u001b[0;34m\u001b[0m\u001b[0;34m\u001b[0m\u001b[0m\n\u001b[0;32m--> 711\u001b[0;31m             \u001b[0mhandle\u001b[0m \u001b[0;34m=\u001b[0m \u001b[0mopen\u001b[0m\u001b[0;34m(\u001b[0m\u001b[0mhandle\u001b[0m\u001b[0;34m,\u001b[0m \u001b[0mioargs\u001b[0m\u001b[0;34m.\u001b[0m\u001b[0mmode\u001b[0m\u001b[0;34m)\u001b[0m\u001b[0;34m\u001b[0m\u001b[0;34m\u001b[0m\u001b[0m\n\u001b[0m\u001b[1;32m    712\u001b[0m         \u001b[0mhandles\u001b[0m\u001b[0;34m.\u001b[0m\u001b[0mappend\u001b[0m\u001b[0;34m(\u001b[0m\u001b[0mhandle\u001b[0m\u001b[0;34m)\u001b[0m\u001b[0;34m\u001b[0m\u001b[0;34m\u001b[0m\u001b[0m\n\u001b[1;32m    713\u001b[0m \u001b[0;34m\u001b[0m\u001b[0m\n",
            "\u001b[0;31mFileNotFoundError\u001b[0m: [Errno 2] No such file or directory: '/content/grieve/MyDrive/Colab Notebooks/project ml/fake news/data frame.xlsx'"
          ]
        }
      ]
    },
    {
      "cell_type": "code",
      "execution_count": null,
      "metadata": {
        "colab": {
          "base_uri": "https://localhost:8080/",
          "height": 440
        },
        "id": "rPUcBPPVguzF",
        "outputId": "5622c383-de72-41f5-9d56-156936e0d6a1"
      },
      "outputs": [
        {
          "output_type": "execute_result",
          "data": {
            "text/plain": [
              "Text(0.5, 1.0, 'Model Train Accuracy Comparison')"
            ]
          },
          "metadata": {},
          "execution_count": 15
        },
        {
          "output_type": "display_data",
          "data": {
            "text/plain": [
              "<Figure size 432x288 with 1 Axes>"
            ],
            "image/png": "[encoded data removed]"
          },
          "metadata": {
            "needs_background": "light"
          }
        }
      ],
      "source": [
        "import seaborn as sns\n",
        "sns.barplot(x='classifier',y='Train_Accuracy',data=DF,palette='hot',edgecolor=sns.color_palette('dark',7))\n",
        "plt.xticks(rotation=90)\n",
        "plt.title('Model Train Accuracy Comparison')"
      ]
    },
    {
      "cell_type": "code",
      "execution_count": null,
      "metadata": {
        "colab": {
          "base_uri": "https://localhost:8080/",
          "height": 440
        },
        "id": "vqJCuJtEuQFx",
        "outputId": "3596375a-daef-4bd6-f1ef-88ca0ea1c667"
      },
      "outputs": [
        {
          "output_type": "execute_result",
          "data": {
            "text/plain": [
              "Text(0.5, 1.0, 'Model Test Accuracy Comparison')"
            ]
          },
          "metadata": {},
          "execution_count": 16
        },
        {
          "output_type": "display_data",
          "data": {
            "text/plain": [
              "<Figure size 432x288 with 1 Axes>"
            ],
            "image/png": "[encoded data removed]"
          },
          "metadata": {
            "needs_background": "light"
          }
        }
      ],
      "source": [
        "import seaborn as sns\n",
        "sns.barplot(x='classifier',y='Test_Accuracy',data=DF,palette='hot',edgecolor=sns.color_palette('dark',7))\n",
        "plt.xticks(rotation=90)\n",
        "plt.title('Model Test Accuracy Comparison')"
      ]
    },
    {
      "cell_type": "code",
      "execution_count": null,
      "metadata": {
        "colab": {
          "base_uri": "https://localhost:8080/",
          "height": 440
        },
        "id": "G_5ZZ2RcueF_",
        "outputId": "fe9c3d61-9785-421c-8947-e49572918723"
      },
      "outputs": [
        {
          "output_type": "execute_result",
          "data": {
            "text/plain": [
              "Text(0.5, 1.0, 'Model Precision Comparison')"
            ]
          },
          "metadata": {},
          "execution_count": 17
        },
        {
          "output_type": "display_data",
          "data": {
            "text/plain": [
              "<Figure size 432x288 with 1 Axes>"
            ],
            "image/png": "[encoded data removed]"
          },
          "metadata": {
            "needs_background": "light"
          }
        }
      ],
      "source": [
        "import seaborn as sns\n",
        "sns.barplot(x='classifier',y='Precision',data=DF,palette='hot',edgecolor=sns.color_palette('dark',7))\n",
        "plt.xticks(rotation=90)\n",
        "plt.title('Model Precision Comparison')"
      ]
    },
    {
      "cell_type": "code",
      "execution_count": null,
      "metadata": {
        "colab": {
          "base_uri": "https://localhost:8080/",
          "height": 440
        },
        "id": "UKL-ZWIJuoGP",
        "outputId": "a4f54d89-5377-40c4-c83a-3ba57f84e8b0"
      },
      "outputs": [
        {
          "output_type": "execute_result",
          "data": {
            "text/plain": [
              "Text(0.5, 1.0, 'Model recall Comparison')"
            ]
          },
          "metadata": {},
          "execution_count": 18
        },
        {
          "output_type": "display_data",
          "data": {
            "text/plain": [
              "<Figure size 432x288 with 1 Axes>"
            ],
            "image/png": "[encoded data removed]"
          },
          "metadata": {
            "needs_background": "light"
          }
        }
      ],
      "source": [
        "import seaborn as sns\n",
        "sns.barplot(x='classifier',y='Recall',data=DF,palette='hot',edgecolor=sns.color_palette('dark',7))\n",
        "plt.xticks(rotation=90)\n",
        "plt.title('Model recall Comparison')"
      ]
    },
    {
      "cell_type": "code",
      "source": [
        "d={'fontfamily':'monospace','fontweight':'bold','fontsize':\"x-large\"}"
      ],
      "metadata": {
        "id": "lRQlM3oo8EUb"
      },
      "execution_count": null,
      "outputs": []
    },
    {
      "cell_type": "code",
      "execution_count": null,
      "metadata": {
        "colab": {
          "base_uri": "https://localhost:8080/",
          "height": 462
        },
        "id": "LjVpThlivKew",
        "outputId": "7815d595-f090-4601-a941-8f5ab97107e2"
      },
      "outputs": [
        {
          "output_type": "execute_result",
          "data": {
            "text/plain": [
              "Text(0.5, 1.0, 'classifier vs Train_Accuracy,Test_Accuracy\\nPrecision and Recall')"
            ]
          },
          "metadata": {},
          "execution_count": 20
        },
        {
          "output_type": "display_data",
          "data": {
            "text/plain": [
              "<Figure size 432x288 with 1 Axes>"
            ],
            "image/png": "[encoded data removed]"
          },
          "metadata": {
            "needs_background": "light"
          }
        }
      ],
      "source": [
        "plt.plot(DF.classifier,DF.Train_Accuracy,marker=\"*\",color='green',label='Train_Accuracy')\n",
        "plt.plot(DF.classifier,DF.Test_Accuracy,marker=\"+\",color='blue',label='Test_Accuracy')\n",
        "plt.plot(DF.classifier,DF.Precision,marker=\"*\",color='red',label='Precision')\n",
        "plt.plot(DF.classifier,DF.Recall,marker=\"+\",color='magenta',label='Recall')\n",
        "plt.ylabel('Train_Accuracy,Test_Accuracy\\nPrecision and Recall',fontdict=d)\n",
        "plt.xlabel('classifier',fontdict=d)\n",
        "plt.legend(loc=[0.2,0.2])\n",
        "plt.xticks(rotation=90)\n",
        "plt.title('classifier vs Train_Accuracy,Test_Accuracy\\nPrecision and Recall',fontdict=d)"
      ]
    },
    {
      "cell_type": "code",
      "source": [
        "DF.describe()"
      ],
      "metadata": {
        "colab": {
          "base_uri": "https://localhost:8080/",
          "height": 300
        },
        "id": "K8Hvzrwo6lAB",
        "outputId": "7119ffbc-af74-4af7-8076-c2fe38154d6b"
      },
      "execution_count": null,
      "outputs": [
        {
          "output_type": "execute_result",
          "data": {
            "text/plain": [
              "       Train_Accuracy  Test_Accuracy  Precision    Recall        f1\n",
              "count        8.000000       8.000000   8.000000  8.000000  8.000000\n",
              "mean         0.946721       0.843716   0.849981  0.878397  0.847566\n",
              "std          0.112717       0.135220   0.131484  0.183278  0.133476\n",
              "min          0.684882       0.610383   0.563380  0.459783  0.606887\n",
              "25%          0.972222       0.760383   0.815548  0.847554  0.768950\n",
              "50%          1.000000       0.889891   0.898464  0.974457  0.893297\n",
              "75%          1.000000       0.956967   0.938952  0.978261  0.958073\n",
              "max          1.000000       0.964481   0.958199  1.000000  0.964922"
            ],
            "text/html": [
              "\n",
              "  <div id=\"df-0b8d6509-115d-4b04-b589-92f85660d028\">\n",
              "    <div class=\"colab-df-container\">\n",
              "      <div>\n",
              "<style scoped>\n",
              "    .dataframe tbody tr th:only-of-type {\n",
              "        vertical-align: middle;\n",
              "    }\n",
              "\n",
              "    .dataframe tbody tr th {\n",
              "        vertical-align: top;\n",
              "    }\n",
              "\n",
              "    .dataframe thead th {\n",
              "        text-align: right;\n",
              "    }\n",
              "</style>\n",
              "<table border=\"1\" class=\"dataframe\">\n",
              "  <thead>\n",
              "    <tr style=\"text-align: right;\">\n",
              "      <th></th>\n",
              "      <th>Train_Accuracy</th>\n",
              "      <th>Test_Accuracy</th>\n",
              "      <th>Precision</th>\n",
              "      <th>Recall</th>\n",
              "      <th>f1</th>\n",
              "    </tr>\n",
              "  </thead>\n",
              "  <tbody>\n",
              "    <tr>\n",
              "      <th>count</th>\n",
              "      <td>8.000000</td>\n",
              "      <td>8.000000</td>\n",
              "      <td>8.000000</td>\n",
              "      <td>8.000000</td>\n",
              "      <td>8.000000</td>\n",
              "    </tr>\n",
              "    <tr>\n",
              "      <th>mean</th>\n",
              "      <td>0.946721</td>\n",
              "      <td>0.843716</td>\n",
              "      <td>0.849981</td>\n",
              "      <td>0.878397</td>\n",
              "      <td>0.847566</td>\n",
              "    </tr>\n",
              "    <tr>\n",
              "      <th>std</th>\n",
              "      <td>0.112717</td>\n",
              "      <td>0.135220</td>\n",
              "      <td>0.131484</td>\n",
              "      <td>0.183278</td>\n",
              "      <td>0.133476</td>\n",
              "    </tr>\n",
              "    <tr>\n",
              "      <th>min</th>\n",
              "      <td>0.684882</td>\n",
              "      <td>0.610383</td>\n",
              "      <td>0.563380</td>\n",
              "      <td>0.459783</td>\n",
              "      <td>0.606887</td>\n",
              "    </tr>\n",
              "    <tr>\n",
              "      <th>25%</th>\n",
              "      <td>0.972222</td>\n",
              "      <td>0.760383</td>\n",
              "      <td>0.815548</td>\n",
              "      <td>0.847554</td>\n",
              "      <td>0.768950</td>\n",
              "    </tr>\n",
              "    <tr>\n",
              "      <th>50%</th>\n",
              "      <td>1.000000</td>\n",
              "      <td>0.889891</td>\n",
              "      <td>0.898464</td>\n",
              "      <td>0.974457</td>\n",
              "      <td>0.893297</td>\n",
              "    </tr>\n",
              "    <tr>\n",
              "      <th>75%</th>\n",
              "      <td>1.000000</td>\n",
              "      <td>0.956967</td>\n",
              "      <td>0.938952</td>\n",
              "      <td>0.978261</td>\n",
              "      <td>0.958073</td>\n",
              "    </tr>\n",
              "    <tr>\n",
              "      <th>max</th>\n",
              "      <td>1.000000</td>\n",
              "      <td>0.964481</td>\n",
              "      <td>0.958199</td>\n",
              "      <td>1.000000</td>\n",
              "      <td>0.964922</td>\n",
              "    </tr>\n",
              "  </tbody>\n",
              "</table>\n",
              "</div>\n",
              "      <button class=\"colab-df-convert\" onclick=\"convertToInteractive('df-0b8d6509-115d-4b04-b589-92f85660d028')\"\n",
              "              title=\"Convert this dataframe to an interactive table.\"\n",
              "              style=\"display:none;\">\n",
              "        \n",
              "  <svg xmlns=\"http://www.w3.org/2000/svg\" height=\"24px\"viewBox=\"0 0 24 24\"\n",
              "       width=\"24px\">\n",
              "    <path d=\"M0 0h24v24H0V0z\" fill=\"none\"/>\n",
              "    <path d=\"M18.56 5.44l.94 2.06.94-2.06 2.06-.94-2.06-.94-.94-2.06-.94 2.06-2.06.94zm-11 1L8.5 8.5l.94-2.06 2.06-.94-2.06-.94L8.5 2.5l-.94 2.06-2.06.94zm10 10l.94 2.06.94-2.06 2.06-.94-2.06-.94-.94-2.06-.94 2.06-2.06.94z\"/><path d=\"M17.41 7.96l-1.37-1.37c-.4-.4-.92-.59-1.43-.59-.52 0-1.04.2-1.43.59L10.3 9.45l-7.72 7.72c-.78.78-.78 2.05 0 2.83L4 21.41c.39.39.9.59 1.41.59.51 0 1.02-.2 1.41-.59l7.78-7.78 2.81-2.81c.8-.78.8-2.07 0-2.86zM5.41 20L4 18.59l7.72-7.72 1.47 1.35L5.41 20z\"/>\n",
              "  </svg>\n",
              "      </button>\n",
              "      \n",
              "  <style>\n",
              "    .colab-df-container {\n",
              "      display:flex;\n",
              "      flex-wrap:wrap;\n",
              "      gap: 12px;\n",
              "    }\n",
              "\n",
              "    .colab-df-convert {\n",
              "      background-color: #E8F0FE;\n",
              "      border: none;\n",
              "      border-radius: 50%;\n",
              "      cursor: pointer;\n",
              "      display: none;\n",
              "      fill: #1967D2;\n",
              "      height: 32px;\n",
              "      padding: 0 0 0 0;\n",
              "      width: 32px;\n",
              "    }\n",
              "\n",
              "    .colab-df-convert:hover {\n",
              "      background-color: #E2EBFA;\n",
              "      box-shadow: 0px 1px 2px rgba(60, 64, 67, 0.3), 0px 1px 3px 1px rgba(60, 64, 67, 0.15);\n",
              "      fill: #174EA6;\n",
              "    }\n",
              "\n",
              "    [theme=dark] .colab-df-convert {\n",
              "      background-color: #3B4455;\n",
              "      fill: #D2E3FC;\n",
              "    }\n",
              "\n",
              "    [theme=dark] .colab-df-convert:hover {\n",
              "      background-color: #434B5C;\n",
              "      box-shadow: 0px 1px 3px 1px rgba(0, 0, 0, 0.15);\n",
              "      filter: drop-shadow(0px 1px 2px rgba(0, 0, 0, 0.3));\n",
              "      fill: #FFFFFF;\n",
              "    }\n",
              "  </style>\n",
              "\n",
              "      <script>\n",
              "        const buttonEl =\n",
              "          document.querySelector('#df-0b8d6509-115d-4b04-b589-92f85660d028 button.colab-df-convert');\n",
              "        buttonEl.style.display =\n",
              "          google.colab.kernel.accessAllowed ? 'block' : 'none';\n",
              "\n",
              "        async function convertToInteractive(key) {\n",
              "          const element = document.querySelector('#df-0b8d6509-115d-4b04-b589-92f85660d028');\n",
              "          const dataTable =\n",
              "            await google.colab.kernel.invokeFunction('convertToInteractive',\n",
              "                                                     [key], {});\n",
              "          if (!dataTable) return;\n",
              "\n",
              "          const docLinkHtml = 'Like what you see? Visit the ' +\n",
              "            '<a target=\"_blank\" href=https://colab.research.google.com/notebooks/data_table.ipynb>data table notebook</a>'\n",
              "            + ' to learn more about interactive tables.';\n",
              "          element.innerHTML = '';\n",
              "          dataTable['output_type'] = 'display_data';\n",
              "          await google.colab.output.renderOutput(dataTable, element);\n",
              "          const docLink = document.createElement('div');\n",
              "          docLink.innerHTML = docLinkHtml;\n",
              "          element.appendChild(docLink);\n",
              "        }\n",
              "      </script>\n",
              "    </div>\n",
              "  </div>\n",
              "  "
            ]
          },
          "metadata": {},
          "execution_count": 21
        }
      ]
    },
    {
      "cell_type": "code",
      "source": [
        "df"
      ],
      "metadata": {
        "colab": {
          "base_uri": "https://localhost:8080/",
          "height": 641
        },
        "id": "O74Oj--hOYC1",
        "outputId": "d00427d1-4042-4062-933c-fd7b5bd2c7e6"
      },
      "execution_count": null,
      "outputs": [
        {
          "output_type": "execute_result",
          "data": {
            "text/plain": [
              "                                                                                                     text  \\\n",
              "0     PALO ALTO, Calif.  —   After years of scorning the political process, Silicon Valley has leapt i...   \n",
              "2     Videos #NoDAPL: Native American Leaders Vow to Stay All Winter, File Lawsuit Against Police Amne...   \n",
              "3     If at first you don’t succeed, try a different sport. Tim Tebow, who was a Heisman   quarterback...   \n",
              "4     42 mins ago 1 Views 0 Comments 0 Likes 'For the first time in history, we’re filming a panoramic...   \n",
              "6     Sunday on NBC’s “Meet the Press,” House Minority Leader Rep. Nancy Pelosi ( )  called for a FBI ...   \n",
              "...                                                                                                   ...   \n",
              "5194  Pres. Trump on if “tapes” exist of his conversations with Comey: ”Well, I’ll tell you about that...   \n",
              "5195  Of all the dysfunctions that plague the world’s megacities, none may be more pernicious than bad...   \n",
              "5196  WASHINGTON  —   Gov. John Kasich of Ohio on Tuesday signed into law a ban on abortion after 20 w...   \n",
              "5197  Good morning. (Want to get California Today by email? Here’s the  .) JoAnna Klein, a science wri...   \n",
              "5199  Perhaps you’ve seen the new TV series whose pilot episode begins this way: A man and a woman are...   \n",
              "\n",
              "      label  \\\n",
              "0         0   \n",
              "2         0   \n",
              "3         1   \n",
              "4         1   \n",
              "6         1   \n",
              "...     ...   \n",
              "5194      1   \n",
              "5195      0   \n",
              "5196      1   \n",
              "5197      0   \n",
              "5199      0   \n",
              "\n",
              "                                                                                               clean_text  \n",
              "0     [palo, alto, calif, year, scorning, political, process, silicon, valley, leapt, fray, prospect, ...  \n",
              "2     [video, nodapl, native, american, leader, vow, stay, winter, file, lawsuit, police, amnesty, int...  \n",
              "3     [first, succeed, try, different, sport, tim, tebow, heisman, quarterback, university, florida, u...  \n",
              "4     [42, min, ago, 1, view, 0, comment, 0, like, first, time, history, filming, panoramic, video, st...  \n",
              "6     [sunday, nbc, meet, press, house, minority, leader, rep, nancy, pelosi, called, fbi, investigati...  \n",
              "...                                                                                                   ...  \n",
              "5194  [pres, trump, tape, exist, conversation, comey, well, tell, maybe, sometime, near, future, pic, ...  \n",
              "5195  [dysfunction, plague, world, megacities, none, may, pernicious, bad, really, really, bad, traffi...  \n",
              "5196  [washington, gov, john, kasich, ohio, tuesday, signed, law, ban, abortion, 20, week, pregnancy, ...  \n",
              "5197  [good, morning, want, get, california, today, email, joanna, klein, science, writer, brings, u, ...  \n",
              "5199  [perhaps, seen, new, tv, series, whose, pilot, episode, begin, way, man, woman, sex, something, ...  \n",
              "\n",
              "[4575 rows x 3 columns]"
            ],
            "text/html": [
              "\n",
              "  <div id=\"df-9e0a5279-34f7-47ab-8e82-b776c23d37f3\">\n",
              "    <div class=\"colab-df-container\">\n",
              "      <div>\n",
              "<style scoped>\n",
              "    .dataframe tbody tr th:only-of-type {\n",
              "        vertical-align: middle;\n",
              "    }\n",
              "\n",
              "    .dataframe tbody tr th {\n",
              "        vertical-align: top;\n",
              "    }\n",
              "\n",
              "    .dataframe thead th {\n",
              "        text-align: right;\n",
              "    }\n",
              "</style>\n",
              "<table border=\"1\" class=\"dataframe\">\n",
              "  <thead>\n",
              "    <tr style=\"text-align: right;\">\n",
              "      <th></th>\n",
              "      <th>text</th>\n",
              "      <th>label</th>\n",
              "      <th>clean_text</th>\n",
              "    </tr>\n",
              "  </thead>\n",
              "  <tbody>\n",
              "    <tr>\n",
              "      <th>0</th>\n",
              "      <td>PALO ALTO, Calif.  —   After years of scorning the political process, Silicon Valley has leapt i...</td>\n",
              "      <td>0</td>\n",
              "      <td>[palo, alto, calif, year, scorning, political, process, silicon, valley, leapt, fray, prospect, ...</td>\n",
              "    </tr>\n",
              "    <tr>\n",
              "      <th>2</th>\n",
              "      <td>Videos #NoDAPL: Native American Leaders Vow to Stay All Winter, File Lawsuit Against Police Amne...</td>\n",
              "      <td>0</td>\n",
              "      <td>[video, nodapl, native, american, leader, vow, stay, winter, file, lawsuit, police, amnesty, int...</td>\n",
              "    </tr>\n",
              "    <tr>\n",
              "      <th>3</th>\n",
              "      <td>If at first you don’t succeed, try a different sport. Tim Tebow, who was a Heisman   quarterback...</td>\n",
              "      <td>1</td>\n",
              "      <td>[first, succeed, try, different, sport, tim, tebow, heisman, quarterback, university, florida, u...</td>\n",
              "    </tr>\n",
              "    <tr>\n",
              "      <th>4</th>\n",
              "      <td>42 mins ago 1 Views 0 Comments 0 Likes 'For the first time in history, we’re filming a panoramic...</td>\n",
              "      <td>1</td>\n",
              "      <td>[42, min, ago, 1, view, 0, comment, 0, like, first, time, history, filming, panoramic, video, st...</td>\n",
              "    </tr>\n",
              "    <tr>\n",
              "      <th>6</th>\n",
              "      <td>Sunday on NBC’s “Meet the Press,” House Minority Leader Rep. Nancy Pelosi ( )  called for a FBI ...</td>\n",
              "      <td>1</td>\n",
              "      <td>[sunday, nbc, meet, press, house, minority, leader, rep, nancy, pelosi, called, fbi, investigati...</td>\n",
              "    </tr>\n",
              "    <tr>\n",
              "      <th>...</th>\n",
              "      <td>...</td>\n",
              "      <td>...</td>\n",
              "      <td>...</td>\n",
              "    </tr>\n",
              "    <tr>\n",
              "      <th>5194</th>\n",
              "      <td>Pres. Trump on if “tapes” exist of his conversations with Comey: ”Well, I’ll tell you about that...</td>\n",
              "      <td>1</td>\n",
              "      <td>[pres, trump, tape, exist, conversation, comey, well, tell, maybe, sometime, near, future, pic, ...</td>\n",
              "    </tr>\n",
              "    <tr>\n",
              "      <th>5195</th>\n",
              "      <td>Of all the dysfunctions that plague the world’s megacities, none may be more pernicious than bad...</td>\n",
              "      <td>0</td>\n",
              "      <td>[dysfunction, plague, world, megacities, none, may, pernicious, bad, really, really, bad, traffi...</td>\n",
              "    </tr>\n",
              "    <tr>\n",
              "      <th>5196</th>\n",
              "      <td>WASHINGTON  —   Gov. John Kasich of Ohio on Tuesday signed into law a ban on abortion after 20 w...</td>\n",
              "      <td>1</td>\n",
              "      <td>[washington, gov, john, kasich, ohio, tuesday, signed, law, ban, abortion, 20, week, pregnancy, ...</td>\n",
              "    </tr>\n",
              "    <tr>\n",
              "      <th>5197</th>\n",
              "      <td>Good morning. (Want to get California Today by email? Here’s the  .) JoAnna Klein, a science wri...</td>\n",
              "      <td>0</td>\n",
              "      <td>[good, morning, want, get, california, today, email, joanna, klein, science, writer, brings, u, ...</td>\n",
              "    </tr>\n",
              "    <tr>\n",
              "      <th>5199</th>\n",
              "      <td>Perhaps you’ve seen the new TV series whose pilot episode begins this way: A man and a woman are...</td>\n",
              "      <td>0</td>\n",
              "      <td>[perhaps, seen, new, tv, series, whose, pilot, episode, begin, way, man, woman, sex, something, ...</td>\n",
              "    </tr>\n",
              "  </tbody>\n",
              "</table>\n",
              "<p>4575 rows × 3 columns</p>\n",
              "</div>\n",
              "      <button class=\"colab-df-convert\" onclick=\"convertToInteractive('df-9e0a5279-34f7-47ab-8e82-b776c23d37f3')\"\n",
              "              title=\"Convert this dataframe to an interactive table.\"\n",
              "              style=\"display:none;\">\n",
              "        \n",
              "  <svg xmlns=\"http://www.w3.org/2000/svg\" height=\"24px\"viewBox=\"0 0 24 24\"\n",
              "       width=\"24px\">\n",
              "    <path d=\"M0 0h24v24H0V0z\" fill=\"none\"/>\n",
              "    <path d=\"M18.56 5.44l.94 2.06.94-2.06 2.06-.94-2.06-.94-.94-2.06-.94 2.06-2.06.94zm-11 1L8.5 8.5l.94-2.06 2.06-.94-2.06-.94L8.5 2.5l-.94 2.06-2.06.94zm10 10l.94 2.06.94-2.06 2.06-.94-2.06-.94-.94-2.06-.94 2.06-2.06.94z\"/><path d=\"M17.41 7.96l-1.37-1.37c-.4-.4-.92-.59-1.43-.59-.52 0-1.04.2-1.43.59L10.3 9.45l-7.72 7.72c-.78.78-.78 2.05 0 2.83L4 21.41c.39.39.9.59 1.41.59.51 0 1.02-.2 1.41-.59l7.78-7.78 2.81-2.81c.8-.78.8-2.07 0-2.86zM5.41 20L4 18.59l7.72-7.72 1.47 1.35L5.41 20z\"/>\n",
              "  </svg>\n",
              "      </button>\n",
              "      \n",
              "  <style>\n",
              "    .colab-df-container {\n",
              "      display:flex;\n",
              "      flex-wrap:wrap;\n",
              "      gap: 12px;\n",
              "    }\n",
              "\n",
              "    .colab-df-convert {\n",
              "      background-color: #E8F0FE;\n",
              "      border: none;\n",
              "      border-radius: 50%;\n",
              "      cursor: pointer;\n",
              "      display: none;\n",
              "      fill: #1967D2;\n",
              "      height: 32px;\n",
              "      padding: 0 0 0 0;\n",
              "      width: 32px;\n",
              "    }\n",
              "\n",
              "    .colab-df-convert:hover {\n",
              "      background-color: #E2EBFA;\n",
              "      box-shadow: 0px 1px 2px rgba(60, 64, 67, 0.3), 0px 1px 3px 1px rgba(60, 64, 67, 0.15);\n",
              "      fill: #174EA6;\n",
              "    }\n",
              "\n",
              "    [theme=dark] .colab-df-convert {\n",
              "      background-color: #3B4455;\n",
              "      fill: #D2E3FC;\n",
              "    }\n",
              "\n",
              "    [theme=dark] .colab-df-convert:hover {\n",
              "      background-color: #434B5C;\n",
              "      box-shadow: 0px 1px 3px 1px rgba(0, 0, 0, 0.15);\n",
              "      filter: drop-shadow(0px 1px 2px rgba(0, 0, 0, 0.3));\n",
              "      fill: #FFFFFF;\n",
              "    }\n",
              "  </style>\n",
              "\n",
              "      <script>\n",
              "        const buttonEl =\n",
              "          document.querySelector('#df-9e0a5279-34f7-47ab-8e82-b776c23d37f3 button.colab-df-convert');\n",
              "        buttonEl.style.display =\n",
              "          google.colab.kernel.accessAllowed ? 'block' : 'none';\n",
              "\n",
              "        async function convertToInteractive(key) {\n",
              "          const element = document.querySelector('#df-9e0a5279-34f7-47ab-8e82-b776c23d37f3');\n",
              "          const dataTable =\n",
              "            await google.colab.kernel.invokeFunction('convertToInteractive',\n",
              "                                                     [key], {});\n",
              "          if (!dataTable) return;\n",
              "\n",
              "          const docLinkHtml = 'Like what you see? Visit the ' +\n",
              "            '<a target=\"_blank\" href=https://colab.research.google.com/notebooks/data_table.ipynb>data table notebook</a>'\n",
              "            + ' to learn more about interactive tables.';\n",
              "          element.innerHTML = '';\n",
              "          dataTable['output_type'] = 'display_data';\n",
              "          await google.colab.output.renderOutput(dataTable, element);\n",
              "          const docLink = document.createElement('div');\n",
              "          docLink.innerHTML = docLinkHtml;\n",
              "          element.appendChild(docLink);\n",
              "        }\n",
              "      </script>\n",
              "    </div>\n",
              "  </div>\n",
              "  "
            ]
          },
          "metadata": {},
          "execution_count": 39
        }
      ]
    },
    {
      "cell_type": "code",
      "source": [
        "DF.to_excel('/content/grieve/MyDrive/Colab Notebooks/df1.xlsx',sheet_name=\"aman\",startrow=2,startcol=5)"
      ],
      "metadata": {
        "id": "tAw60dk2Ij71"
      },
      "execution_count": null,
      "outputs": []
    },
    {
      "cell_type": "code",
      "source": [
        "plt.pie(df.label.value_counts(),labels=['fake','true'],autopct=\"%0.2f\")"
      ],
      "metadata": {
        "colab": {
          "base_uri": "https://localhost:8080/",
          "height": 352
        },
        "id": "U-qC0wDdAwLL",
        "outputId": "f2112b7a-45a4-425b-95d4-9c72f0093456"
      },
      "execution_count": null,
      "outputs": [
        {
          "output_type": "execute_result",
          "data": {
            "text/plain": [
              "([<matplotlib.patches.Wedge at 0x7f63ba6cc640>,\n",
              "  <matplotlib.patches.Wedge at 0x7f63ba6ccaf0>],\n",
              " [Text(-0.05624950082254221, 1.098560873896943, 'fake'),\n",
              "  Text(0.05624950082254232, -1.098560873896943, 'true')],\n",
              " [Text(-0.03068154590320484, 0.5992150221256052, '51.63'),\n",
              "  Text(0.030681545903204897, -0.5992150221256052, '48.37')])"
            ]
          },
          "metadata": {},
          "execution_count": 30
        },
        {
          "output_type": "display_data",
          "data": {
            "text/plain": [
              "<Figure size 432x288 with 1 Axes>"
            ],
            "image/png": "[encoded data removed]"
          },
          "metadata": {}
        }
      ]
    },
    {
      "cell_type": "code",
      "source": [
        "import string as str"
      ],
      "metadata": {
        "id": "bEa3swOFOGJq"
      },
      "execution_count": null,
      "outputs": []
    }
  ],
  "metadata": {
    "colab": {
      "provenance": []
    },
    "kernelspec": {
      "display_name": "Python 3",
      "name": "python3"
    },
    "language_info": {
      "name": "python"
    }
  },
  "nbformat": 4,
  "nbformat_minor": 0
}